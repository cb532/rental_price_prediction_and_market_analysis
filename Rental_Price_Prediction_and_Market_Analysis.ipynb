{
  "nbformat": 4,
  "nbformat_minor": 0,
  "metadata": {
    "colab": {
      "provenance": [],
      "toc_visible": true,
      "authorship_tag": "ABX9TyN1xHHpyN/xvpj59g9Hyrgl",
      "include_colab_link": true
    },
    "kernelspec": {
      "name": "python3",
      "display_name": "Python 3"
    },
    "language_info": {
      "name": "python"
    }
  },
  "cells": [
    {
      "cell_type": "markdown",
      "metadata": {
        "id": "view-in-github",
        "colab_type": "text"
      },
      "source": [
        "<a href=\"https://colab.research.google.com/github/cb532/rental_price_prediction_and_market_analysis/blob/main/Rental_Price_Prediction_and_Market_Analysis.ipynb\" target=\"_parent\"><img src=\"https://colab.research.google.com/assets/colab-badge.svg\" alt=\"Open In Colab\"/></a>"
      ]
    },
    {
      "cell_type": "code",
      "source": [
        "import pandas as pd\n",
        "import numpy as np\n",
        "import seaborn as sns\n",
        "import matplotlib.pyplot as plt"
      ],
      "metadata": {
        "id": "_o-QE2yJ5SRe"
      },
      "execution_count": 65,
      "outputs": []
    },
    {
      "cell_type": "code",
      "execution_count": 66,
      "metadata": {
        "colab": {
          "base_uri": "https://localhost:8080/"
        },
        "id": "erWCn8Ov4-BU",
        "outputId": "dac439dd-3b47-49ef-a9ab-b066740e57a8"
      },
      "outputs": [
        {
          "output_type": "stream",
          "name": "stdout",
          "text": [
            "Drive already mounted at /content/gdrive; to attempt to forcibly remount, call drive.mount(\"/content/gdrive\", force_remount=True).\n"
          ]
        }
      ],
      "source": [
        "from google.colab import drive\n",
        "drive.mount('/content/gdrive')\n",
        "rental = pd.read_csv('gdrive/My Drive/Colab Notebooks/dsc101/data/apartment-rental-final.csv', encoding = 'cp1252')"
      ]
    },
    {
      "cell_type": "markdown",
      "source": [
        "# Introduction"
      ],
      "metadata": {
        "id": "pbeYDrsx6TBP"
      }
    },
    {
      "cell_type": "markdown",
      "source": [
        "## What is our data"
      ],
      "metadata": {
        "id": "o6y_Idvlk8r8"
      }
    },
    {
      "cell_type": "markdown",
      "source": [
        "The project revolves around a dataset, \"apartments-rental-final.csv\" featuring details on 10,000 apartments for rent across the United States. This comprehensive dataset encompasses diverse information, including but not limited to location, amenities, bedrooms, bathrooms, and pricing. Each observation represents a unique rental opportunity, providing a rich source for analysis and exploration."
      ],
      "metadata": {
        "id": "EnZdea2LtdlN"
      }
    },
    {
      "cell_type": "markdown",
      "source": [
        "## What I'll be doing"
      ],
      "metadata": {
        "id": "kUkhopCrlajL"
      }
    },
    {
      "cell_type": "markdown",
      "source": [
        "Our exploration involves delving into the intricacies of the dataset to extract meaningful insights and address key questions. The primary objectives include developing a model for predicting monthly rent and uncovering distinct market segments. The analysis will commence with a detailed data description, followed by targeted exploratory data analysis (EDA) to reveal patterns and relationships. The subsequent steps involve data preparation to refine the dataset for modeling and the construction of a predictive model for monthly rent.\n",
        "\n",
        "The project's structure comprises three main sections:\n",
        "\n",
        "1. Data Description: A comprehensive examination of the dataset, elucidating variable names, data types, and overall structure.\n",
        "\n",
        "2. Price Prediction: Developing a model to predict monthly rent, incorporating EDA, data preparation, and model construction.\n",
        "\n",
        "3. Market Determination: Uncovering distinct market segments, including geographic and non-geographic characteristics.\n",
        "\n",
        "Through these tasks, the project aims to provide a nuanced understanding of the dataset and contribute valuable insights to the real estate market and the affects other variables have on it."
      ],
      "metadata": {
        "id": "NKg7WTjqlcB6"
      }
    },
    {
      "cell_type": "markdown",
      "source": [
        "#Data Description"
      ],
      "metadata": {
        "id": "RbBMJ7ak6VEZ"
      }
    },
    {
      "cell_type": "markdown",
      "source": [
        "## Data context\n"
      ],
      "metadata": {
        "id": "S79Q1xlvkW_v"
      }
    },
    {
      "cell_type": "markdown",
      "source": [
        "The dataset, \"apartments-rental-final.csv\" encompasses information about 10,000 apartments available for rent across the United States. This diverse and expansive dataset includes crucial details such as location, amenities, bedroom and bathroom counts, and pricing, providing a comprehensive view of the rental housing market.\n"
      ],
      "metadata": {
        "id": "fxIC4NYQk5pJ"
      }
    },
    {
      "cell_type": "markdown",
      "source": [
        "## Data information"
      ],
      "metadata": {
        "id": "EFYtSpZL4xdX"
      }
    },
    {
      "cell_type": "markdown",
      "source": [
        "There are a total of 23 variables, as well as 10,000 observations. Note that not every variable has a value for each observation."
      ],
      "metadata": {
        "id": "1__gStti497e"
      }
    },
    {
      "cell_type": "markdown",
      "source": [
        "## Variable Information"
      ],
      "metadata": {
        "id": "3psWlTeJkcWr"
      }
    },
    {
      "cell_type": "markdown",
      "source": [
        "*  Unnamed:0\n",
        "  * This variable is simply an index, counting from 1 to 10,000\n",
        "  * int64 (whole numbers)\n",
        "  * 10,000 values\n",
        "*  id\n",
        "  * This variable is an id that is 10-digit id unique to each listing\n",
        "  * int64 (whole numbers)\n",
        "  * 10,000 values\n",
        "*  category\n",
        "  * This variable is simply the same for each listing, which is housing/rent/apartment\n",
        "  * object (string)\n",
        "  * 10,000 values\n",
        "*  title\n",
        "  * This variable is the title of the listing, with varying naming structures\n",
        "  * object (string)\n",
        "  * 10,000 values\n",
        "*  body\n",
        "  * This variable is the body text of the listing, with varying information and often including the information of other variables such as address, price, amenities, etc.\n",
        "  * object (string)\n",
        "  * 10,000 values\n",
        "*  amenities\n",
        "  * This variable is for the amentities of the listing, such as appliances, recreation, etc.\n",
        "  * object (string)\n",
        "  * 6,451 values\n",
        "*  bathrooms\n",
        "  * This variable contains the amount of bathrooms\n",
        "  * float64 (decimal numbers)\n",
        "  * 9,443 values\n",
        "*  bedrooms\n",
        "  * This variable contains the amount of bedrooms\n",
        "  * float64 (decimal numbers)\n",
        "  * 9,993 values\n",
        "*  currency\n",
        "  * This variable contains the currency for payment\n",
        "  * object (string)\n",
        "  * 10,000 values\n",
        "*  fee\n",
        "  * This variable contains the answer to if there is a fee or not (yes or no)\n",
        "  * object (string)\n",
        "  * 10,000 values\n",
        "*  has_photo\n",
        "  * This variable tells us if the listing has a photo or not\n",
        "  * object (string)\n",
        "  * 10,000 values\n",
        "*  pets_allowed\n",
        "  * This variable tells us if pets and which pets are allowed\n",
        "  * object (string)\n",
        "  * 8,252 values\n",
        "*  price\n",
        "  * This variables tells us the price of the listing in plain number format\n",
        "  * float64 (decimal numbers)\n",
        "  * 9,973 values\n",
        "*  price_display\n",
        "  * This variable is contains a more readable version of the price with comma's and dollar signs.\n",
        "  * object (string)\n",
        "  * 10,000 values\n",
        "*  price_type\n",
        "  * This variable tells us the payment schedule\n",
        "  * object (string)\n",
        "  * 10,000 values\n",
        "*  square_feet\n",
        "  * This variable tells us the square footage of the listing\n",
        "  * float64 (decimal numbers)\n",
        "  * 9,820 values\n",
        "*  address\n",
        "  * This variable tells us the address of the listing\n",
        "  * object (string)\n",
        "  * 6,673 values\n",
        "*  cityname\n",
        "  * This variable tells us the city the listing is located in\n",
        "  * object (string)\n",
        "  * 9,923 values\n",
        "*  state\n",
        "  * This variable tells us the state the listing is located in\n",
        "  * object (string)\n",
        "  * 9,916 values\n",
        "*  latitude\n",
        "  * This variable gives us the latitude location of the listing\n",
        "  * float64 (decimal numbers)\n",
        "  * 9,972 values\n",
        "*  longitude\n",
        "  * This variable gives us the longitude location of the listing\n",
        "  * float64 (decimal numbers)\n",
        "  * 9,972 values\n",
        "*  source\n",
        "  * This variable tells us the source of the listing, such as which website\n",
        "  * object (string)\n",
        "  * 3,674 values\n",
        "*  time\n",
        "  * this variable tells us the time of the listing, in unix format\n",
        "  * int64 (whole numbers)\n",
        "  * 10,000 values"
      ],
      "metadata": {
        "id": "B8y6iJmok6Wo"
      }
    },
    {
      "cell_type": "markdown",
      "source": [
        "# Price Prediction"
      ],
      "metadata": {
        "id": "D8Ctwzl46Ynx"
      }
    },
    {
      "cell_type": "markdown",
      "source": [
        "In this section we are going to develop a model to predict the monthly rent for apartments. I will be doing this using regression."
      ],
      "metadata": {
        "id": "-PTwnqUBEmeK"
      }
    },
    {
      "cell_type": "markdown",
      "source": [
        "## Exploratory Data Analysis"
      ],
      "metadata": {
        "id": "8PhF8eMbqU3H"
      }
    },
    {
      "cell_type": "markdown",
      "source": [
        "### Descriptive Statistics on Rental Prices"
      ],
      "metadata": {
        "id": "lUXoirhrEEBs"
      }
    },
    {
      "cell_type": "markdown",
      "source": [
        "We first need to get some descriptive statistics on our target variable, rental prices."
      ],
      "metadata": {
        "id": "Up7sC2yQGVqP"
      }
    },
    {
      "cell_type": "code",
      "source": [
        "# Descriptive statistics on rental prices\n",
        "rental_price_stats = rental['price'].describe()\n",
        "\n",
        "# Print the result\n",
        "print(rental_price_stats)"
      ],
      "metadata": {
        "colab": {
          "base_uri": "https://localhost:8080/"
        },
        "id": "VnQcRMC2EP8s",
        "outputId": "3dc3a836-648e-4829-e13a-9c1184cd83f9"
      },
      "execution_count": 67,
      "outputs": [
        {
          "output_type": "stream",
          "name": "stdout",
          "text": [
            "count     9973.000000\n",
            "mean      1486.470370\n",
            "std       1077.577105\n",
            "min        200.000000\n",
            "25%        949.000000\n",
            "50%       1270.000000\n",
            "75%       1695.000000\n",
            "max      52500.000000\n",
            "Name: price, dtype: float64\n"
          ]
        }
      ]
    },
    {
      "cell_type": "markdown",
      "source": [
        "In these statistics we get a couple interesting points. First, we are missing the price from 27 listings, we will try to solve this with in our next step data preperation. We find also find out that the average rent price is \\$1,486 with a standard deviation of \\$1,077, the minimum is \\$200, and the maximum is $52,500."
      ],
      "metadata": {
        "id": "26l23OSsFAAK"
      }
    },
    {
      "cell_type": "markdown",
      "source": [
        "Below is a boxplot of rental prices, to help visualize outliers and distribution."
      ],
      "metadata": {
        "id": "aVCsu9KMI3a_"
      }
    },
    {
      "cell_type": "code",
      "source": [
        "plt.figure(figsize=(18, 6))\n",
        "sns.boxplot(x=rental['price'])\n",
        "plt.title('Boxplot of Rental Prices')\n",
        "plt.show()"
      ],
      "metadata": {
        "colab": {
          "base_uri": "https://localhost:8080/",
          "height": 564
        },
        "id": "V0Ejo5pMGrNA",
        "outputId": "e1665aed-bbb1-406c-b3a1-cae724fd201b"
      },
      "execution_count": 68,
      "outputs": [
        {
          "output_type": "display_data",
          "data": {
            "text/plain": [
              "<Figure size 1800x600 with 1 Axes>"
            ],
            "image/png": "[encoded data removed]"
          },
          "metadata": {}
        }
      ]
    },
    {
      "cell_type": "markdown",
      "source": [
        "We can see that for the most part, they are consolidated towards the average but with outliers occupying the high ends, with our maximum being a large outlier."
      ],
      "metadata": {
        "id": "PwMKo4dHI7rq"
      }
    },
    {
      "cell_type": "markdown",
      "source": [
        "It is clearly right skewed, below we'll calculate the exact amount"
      ],
      "metadata": {
        "id": "reXYorDRJLaM"
      }
    },
    {
      "cell_type": "code",
      "source": [
        "skewness = rental['price'].skew()\n",
        "print(f'Skewness of Rental Prices: {skewness}')"
      ],
      "metadata": {
        "colab": {
          "base_uri": "https://localhost:8080/"
        },
        "id": "PfmCJj5MHMTg",
        "outputId": "acf09dd4-2d44-43be-c2f5-8d4822340035"
      },
      "execution_count": 69,
      "outputs": [
        {
          "output_type": "stream",
          "name": "stdout",
          "text": [
            "Skewness of Rental Prices: 14.362910955262093\n"
          ]
        }
      ]
    },
    {
      "cell_type": "markdown",
      "source": [
        "Now I want to look at correlations with other variables. For now, only numeric variables."
      ],
      "metadata": {
        "id": "_mk2FLCEJR7k"
      }
    },
    {
      "cell_type": "code",
      "source": [
        "correlation_matrix = rental.corr(numeric_only=True)\n",
        "price_correlation = correlation_matrix['price'].sort_values(ascending=False)\n",
        "print(price_correlation)"
      ],
      "metadata": {
        "colab": {
          "base_uri": "https://localhost:8080/"
        },
        "id": "Hfn10t-RHOlX",
        "outputId": "ba6b9225-8995-4847-962e-73a47cc6c655"
      },
      "execution_count": 70,
      "outputs": [
        {
          "output_type": "stream",
          "name": "stdout",
          "text": [
            "price          1.000000\n",
            "bathrooms      0.409499\n",
            "square_feet    0.388464\n",
            "Unnamed: 0     0.335666\n",
            "bedrooms       0.306529\n",
            "latitude       0.015342\n",
            "id            -0.021593\n",
            "time          -0.022300\n",
            "longitude     -0.183856\n",
            "Name: price, dtype: float64\n"
          ]
        }
      ]
    },
    {
      "cell_type": "markdown",
      "source": [
        "This tells us that the price increases with and increase of bathrooms, square_feet, and bedrooms. These variables are likely correlated to each other, so I'll double check that now."
      ],
      "metadata": {
        "id": "StFlhN5cJe4q"
      }
    },
    {
      "cell_type": "code",
      "source": [
        "correlation_matrix = rental[['bathrooms', 'square_feet', 'bedrooms']].corr()\n",
        "\n",
        "print(correlation_matrix)"
      ],
      "metadata": {
        "colab": {
          "base_uri": "https://localhost:8080/"
        },
        "id": "DTWC8QheKKH8",
        "outputId": "b3f3e349-ab25-46cf-f31d-8f327c2cc677"
      },
      "execution_count": 71,
      "outputs": [
        {
          "output_type": "stream",
          "name": "stdout",
          "text": [
            "             bathrooms  square_feet  bedrooms\n",
            "bathrooms      1.00000     0.797150  0.704860\n",
            "square_feet    0.79715     1.000000  0.586787\n",
            "bedrooms       0.70486     0.586787  1.000000\n"
          ]
        }
      ]
    },
    {
      "cell_type": "markdown",
      "source": [
        "As suspected they are heavily correlated, with square_feet and bathrooms being the highest correlation, follow by bathrooms and bedroom, and lastly bedrooms and square_feet. If we don't want our model to be too heavily weighted by size, we may want to not use all of these in our model."
      ],
      "metadata": {
        "id": "g-SHotS6KX6C"
      }
    },
    {
      "cell_type": "markdown",
      "source": [
        "A very low positive correlation with latitude suggests a weak relationship. It's not meaningful for interpretation as latitude alone may not be a strong predictor of rental prices.\n",
        "\n",
        "Longitude on the other hand have a negative correlation of -0.18 indicating a moderate negative relationship between longitude and rental prices. This suggests that, on average, listings with higher longitude (moving west) tend to have lower rental prices."
      ],
      "metadata": {
        "id": "jMTdvAJaLtlm"
      }
    },
    {
      "cell_type": "markdown",
      "source": [
        "We can see that time has a very low correlation, but I want to visualize this better as I think we can get more information out of time."
      ],
      "metadata": {
        "id": "wxDwE_hZTCeO"
      }
    },
    {
      "cell_type": "code",
      "source": [
        "import matplotlib.pyplot as plt\n",
        "\n",
        "plt.figure(figsize=(12, 6))\n",
        "plt.scatter(rental['time'], rental['price'], alpha=0.4)\n",
        "plt.title('Scatter Plot of Rental Prices over Time')\n",
        "plt.xlabel('Time (Unix Format)')\n",
        "plt.ylabel('Rental Price')\n",
        "plt.show()"
      ],
      "metadata": {
        "colab": {
          "base_uri": "https://localhost:8080/",
          "height": 564
        },
        "id": "HlBQIMZtS2TM",
        "outputId": "6f0b4219-e5de-472c-aebd-076273849400"
      },
      "execution_count": 72,
      "outputs": [
        {
          "output_type": "display_data",
          "data": {
            "text/plain": [
              "<Figure size 1200x600 with 1 Axes>"
            ],
            "image/png": "[encoded data removed]"
          },
          "metadata": {}
        }
      ]
    },
    {
      "cell_type": "markdown",
      "source": [
        "As you can see, there seems to be a gap in listing dates, and these times in non unix format are actually only September to December 2019, so only a 3 month span."
      ],
      "metadata": {
        "id": "mJcwCmQDTSy4"
      }
    },
    {
      "cell_type": "markdown",
      "source": [
        "Important to note that both ID and unnamed: 0 are likely useless for our analysis and model, as they are both indexing variables.\n"
      ],
      "metadata": {
        "id": "5D1ip5SfLV8D"
      }
    },
    {
      "cell_type": "markdown",
      "source": [
        "I am going to ignore most categorical variables for now, as I am going to use regression for this price prediction and will look at things like geography further on. I will still look at things that I can translate into yes/no answers that I could easily translate to numbers."
      ],
      "metadata": {
        "id": "H1YNkIcyNtXu"
      }
    },
    {
      "cell_type": "markdown",
      "source": [
        "First I want to see if having a photo has a significant impact on the price."
      ],
      "metadata": {
        "id": "0QB9WW1DVDBO"
      }
    },
    {
      "cell_type": "code",
      "source": [
        "# Calculate the average price for each 'has_photo' category\n",
        "average_price_per_photo = rental.groupby('has_photo')['price'].mean()\n",
        "\n",
        "# Display the result\n",
        "print(\"Average Price per 'has_photo' Category:\")\n",
        "print(average_price_per_photo)"
      ],
      "metadata": {
        "colab": {
          "base_uri": "https://localhost:8080/"
        },
        "id": "pYbYUvC8VAA0",
        "outputId": "8d82f6b8-4b5c-4382-ff39-71bc6f69b9dc"
      },
      "execution_count": 73,
      "outputs": [
        {
          "output_type": "stream",
          "name": "stdout",
          "text": [
            "Average Price per 'has_photo' Category:\n",
            "has_photo\n",
            "No           1586.516304\n",
            "Thumbnail    1483.197321\n",
            "Yes          1498.259669\n",
            "Name: price, dtype: float64\n"
          ]
        }
      ]
    },
    {
      "cell_type": "markdown",
      "source": [
        "Oddly enough, having a photo means there is a lower price on average. I don't think this variable holds any weight when determining rent price though."
      ],
      "metadata": {
        "id": "K8EdodrWVJVf"
      }
    },
    {
      "cell_type": "markdown",
      "source": [
        "Lastly lets look at if pets are allowed has significant impact on price."
      ],
      "metadata": {
        "id": "UFA3Ra8jYE95"
      }
    },
    {
      "cell_type": "code",
      "source": [
        "# Replace any missing values in the 'pets_allowed' column with a placeholder\n",
        "rental['pets_allowed'].fillna('Not Specified', inplace=True)\n",
        "\n",
        "# Calculate both the average price and the count for each 'pets_allowed' category\n",
        "result_per_pets = rental.groupby('pets_allowed')['price'].agg(['mean', 'count'])\n",
        "\n",
        "# Display the result\n",
        "print(\"Average Price and Count per 'pets_allowed' Category:\")\n",
        "print(result_per_pets)"
      ],
      "metadata": {
        "colab": {
          "base_uri": "https://localhost:8080/"
        },
        "id": "NvBgxt1kYXEz",
        "outputId": "c1d32069-7aed-4e03-aa79-982c867b3a76"
      },
      "execution_count": 74,
      "outputs": [
        {
          "output_type": "stream",
          "name": "stdout",
          "text": [
            "Average Price and Count per 'pets_allowed' Category:\n",
            "                      mean  count\n",
            "pets_allowed                     \n",
            "Cats           1359.325052    483\n",
            "Cats,Dogs      1443.736276   5210\n",
            "Dogs           2063.178862    123\n",
            "Not Specified  1537.738273   4157\n"
          ]
        }
      ]
    },
    {
      "cell_type": "markdown",
      "source": [
        "There seems to be an interesting correlation here, dogs is significantly higher. I'll try to utilize this in my model."
      ],
      "metadata": {
        "id": "X5mo2T_4Yq66"
      }
    },
    {
      "cell_type": "markdown",
      "source": [
        "The rest of the variables I don't expect to give us any significant information.\n",
        "\n",
        "Category, Currency, and Fee, all have the same value for each listing, so are useless.\n",
        "\n",
        "Both title and body are unique to the listing and most valuable data from it will already be from other variables like square feet.\n",
        "\n",
        "Price_display is just a different format for price.\n",
        "\n",
        "Price_type we may need to use to fix some of the prices in the next section, but does not give us information for predicting price.\n",
        "\n",
        "This covers all the variables in relation with price, now we move onto data preperation."
      ],
      "metadata": {
        "id": "tQUJ1g2hVUtf"
      }
    },
    {
      "cell_type": "markdown",
      "source": [
        "## Data Preperation\n",
        "\n",
        "Now that we know so much about the price statistics and correlations, lets work on cleaning and preparing the data for our model. I am going to be using a linear regression model to determine price."
      ],
      "metadata": {
        "id": "xir2HCqZqiKG"
      }
    },
    {
      "cell_type": "markdown",
      "source": [
        "### Dropping Irrelevant Variables"
      ],
      "metadata": {
        "id": "Xx_Sj1T3XUDx"
      }
    },
    {
      "cell_type": "markdown",
      "source": [
        "We determined in the previous section that unnamed:0, id, category, title, body, currency, fee, has_photo, price_display, address, source, are all not going to be used in our model as they don't tell us enough about price.\n",
        "\n",
        "Since I will be using a regression model, I am also going to be dropping non-numeric variables (besides pets_allowed, as I'll one-hot encode this later)."
      ],
      "metadata": {
        "id": "izc5iJLOXqd0"
      }
    },
    {
      "cell_type": "code",
      "source": [
        "# Create a copy of the 'rental' dataframe\n",
        "rental_copy = rental.copy()\n",
        "\n",
        "# List of columns to drop\n",
        "columns_to_drop = ['Unnamed: 0', 'id', 'category', 'title', 'body', 'currency', 'fee',\n",
        "                   'has_photo', 'price_display', 'address', 'source', 'amenities', 'price_type', 'cityname', 'state']\n",
        "\n",
        "# Drop the specified columns\n",
        "rental_copy = rental_copy.drop(columns=columns_to_drop)"
      ],
      "metadata": {
        "id": "IAsUMMYGZPn1"
      },
      "execution_count": 75,
      "outputs": []
    },
    {
      "cell_type": "markdown",
      "source": [
        "### Handling Missing Values"
      ],
      "metadata": {
        "id": "BXL6QlAcF-ka"
      }
    },
    {
      "cell_type": "markdown",
      "source": [
        "Now we have to handle missing data. First lets look at how many we have missing from each."
      ],
      "metadata": {
        "id": "l6DJPrgJcYZa"
      }
    },
    {
      "cell_type": "code",
      "source": [
        "# Display the count of missing values for each variable in rental_copy\n",
        "missing_values = rental_copy.isnull().sum()\n",
        "\n",
        "# Display the result\n",
        "print(\"Missing Values for Each Variable:\")\n",
        "print(missing_values)"
      ],
      "metadata": {
        "colab": {
          "base_uri": "https://localhost:8080/"
        },
        "id": "1ZtsVUziGA3H",
        "outputId": "5965da33-333b-4924-909f-5c0a0ffb71b5"
      },
      "execution_count": 76,
      "outputs": [
        {
          "output_type": "stream",
          "name": "stdout",
          "text": [
            "Missing Values for Each Variable:\n",
            "bathrooms       557\n",
            "bedrooms          7\n",
            "pets_allowed      0\n",
            "price            27\n",
            "square_feet     180\n",
            "latitude         28\n",
            "longitude        28\n",
            "time              0\n",
            "dtype: int64\n"
          ]
        }
      ]
    },
    {
      "cell_type": "markdown",
      "source": [
        "First thing I notice is there is 27 missing price values, but I remember there were no missing price_displays in our original data, so lets try to extract that information and fill our missing values."
      ],
      "metadata": {
        "id": "Bh5zlhuUkXc8"
      }
    },
    {
      "cell_type": "code",
      "source": [
        "# Delete the dollar sign and comma, then convert to numeric\n",
        "rental_copy['price'] = pd.to_numeric(rental['price_display'].str.replace('[\\$,]', '', regex=True), errors='coerce')"
      ],
      "metadata": {
        "id": "1UtJ6rHhlQMI"
      },
      "execution_count": 77,
      "outputs": []
    },
    {
      "cell_type": "markdown",
      "source": [
        "We are left with two missing values, because of our two prices that have odd weekly formats. By looking in the original rental dataframe, I see that the first one says it is 1560 weekly despite being 200 square feet, this must be an error. The second one is displayed as $275 monthly|weekly, which doesn't make very much sense and can be assumed meant weekly. In the title and body there are no clues to the actual pricing, so I will decide to drop both rows. This is also good because it deals with us having to translate prices to monthly format."
      ],
      "metadata": {
        "id": "w3dmJM9lmfQu"
      }
    },
    {
      "cell_type": "code",
      "source": [
        "# Drop rows with missing 'price'\n",
        "rental_copy = rental_copy.dropna(subset=['price'])"
      ],
      "metadata": {
        "id": "831bOehRneZQ"
      },
      "execution_count": 78,
      "outputs": []
    },
    {
      "cell_type": "markdown",
      "source": [
        "For the rest of our numeric missing values, we will be doing imputations. First lets check skews, to tell whether we will use median or average for each."
      ],
      "metadata": {
        "id": "utpq5PRHjycl"
      }
    },
    {
      "cell_type": "code",
      "source": [
        "from scipy.stats import skew\n",
        "\n",
        "numeric_variables_with_missing = ['bathrooms', 'bedrooms', 'square_feet', 'latitude', 'longitude']\n",
        "\n",
        "# Calculate skewness for each numeric variable with missing values\n",
        "skewness_of_missing = rental_copy[numeric_variables_with_missing].apply(lambda x: skew(x.dropna()))\n",
        "\n",
        "# Display the skewness values\n",
        "print(\"Skewness of Numeric Variables with Missing Values:\")\n",
        "print(skewness_of_missing)"
      ],
      "metadata": {
        "colab": {
          "base_uri": "https://localhost:8080/"
        },
        "id": "QkFGO50ykAc3",
        "outputId": "97176d84-0bb8-48c5-bf1d-e30e8456471c"
      },
      "execution_count": 79,
      "outputs": [
        {
          "output_type": "stream",
          "name": "stdout",
          "text": [
            "Skewness of Numeric Variables with Missing Values:\n",
            "bathrooms       2.031808\n",
            "bedrooms        1.173330\n",
            "square_feet    23.157778\n",
            "latitude        0.281159\n",
            "longitude      -0.667446\n",
            "dtype: float64\n"
          ]
        }
      ]
    },
    {
      "cell_type": "markdown",
      "source": [
        "\n",
        "\n",
        "\n",
        "\n",
        "\n",
        "\n",
        "Since bathrooms, bedrooms, and square_feet all have a skew, we will use median. Latitude and longitude have a lower skew, so I'll decide what to do with those missing values after."
      ],
      "metadata": {
        "id": "IWBViON5kAYm"
      }
    },
    {
      "cell_type": "code",
      "source": [
        "# Calculate the median for each column\n",
        "median_bathrooms = rental_copy['bathrooms'].median()\n",
        "median_bedrooms = rental_copy['bedrooms'].median()\n",
        "median_square_feet = rental_copy['square_feet'].median()\n",
        "\n",
        "# Fill missing values with the calculated medians\n",
        "rental_copy['bathrooms'].fillna(median_bathrooms, inplace=True)\n",
        "rental_copy['bedrooms'].fillna(median_bedrooms, inplace=True)\n",
        "rental_copy['square_feet'].fillna(median_square_feet, inplace=True)"
      ],
      "metadata": {
        "id": "LqCTMWPaoGOC",
        "colab": {
          "base_uri": "https://localhost:8080/"
        },
        "outputId": "bd65bfbd-3f0a-4ffa-af72-c200692c88c1"
      },
      "execution_count": 80,
      "outputs": [
        {
          "output_type": "stream",
          "name": "stderr",
          "text": [
            "<ipython-input-80-e7ca019a97db>:7: SettingWithCopyWarning: \n",
            "A value is trying to be set on a copy of a slice from a DataFrame\n",
            "\n",
            "See the caveats in the documentation: https://pandas.pydata.org/pandas-docs/stable/user_guide/indexing.html#returning-a-view-versus-a-copy\n",
            "  rental_copy['bathrooms'].fillna(median_bathrooms, inplace=True)\n",
            "<ipython-input-80-e7ca019a97db>:8: SettingWithCopyWarning: \n",
            "A value is trying to be set on a copy of a slice from a DataFrame\n",
            "\n",
            "See the caveats in the documentation: https://pandas.pydata.org/pandas-docs/stable/user_guide/indexing.html#returning-a-view-versus-a-copy\n",
            "  rental_copy['bedrooms'].fillna(median_bedrooms, inplace=True)\n",
            "<ipython-input-80-e7ca019a97db>:9: SettingWithCopyWarning: \n",
            "A value is trying to be set on a copy of a slice from a DataFrame\n",
            "\n",
            "See the caveats in the documentation: https://pandas.pydata.org/pandas-docs/stable/user_guide/indexing.html#returning-a-view-versus-a-copy\n",
            "  rental_copy['square_feet'].fillna(median_square_feet, inplace=True)\n"
          ]
        }
      ]
    },
    {
      "cell_type": "markdown",
      "source": [
        "Now all that is left is latitude and longitude. There isn't a very good way to impute these, and there is only 28 out of 10,000, I am just going to drop them for our regression model."
      ],
      "metadata": {
        "id": "x7siXFJ6odIh"
      }
    },
    {
      "cell_type": "code",
      "source": [
        "rental_copy = rental_copy.dropna(subset=['latitude', 'longitude'])"
      ],
      "metadata": {
        "id": "bcYDXtRcvRTZ"
      },
      "execution_count": 81,
      "outputs": []
    },
    {
      "cell_type": "markdown",
      "source": [
        "Now checking to see if there are no missing values"
      ],
      "metadata": {
        "id": "fyYM3jF6vkRQ"
      }
    },
    {
      "cell_type": "code",
      "source": [
        "# Display the count of missing values for each variable in rental_copy\n",
        "missing_values = rental_copy.isnull().sum()\n",
        "\n",
        "# Display the result\n",
        "print(\"Missing Values for Each Variable:\")\n",
        "print(missing_values)"
      ],
      "metadata": {
        "colab": {
          "base_uri": "https://localhost:8080/"
        },
        "id": "41t45VLcvlvW",
        "outputId": "e6ac4c4a-f005-4fa4-b476-ad713e17f5e8"
      },
      "execution_count": 82,
      "outputs": [
        {
          "output_type": "stream",
          "name": "stdout",
          "text": [
            "Missing Values for Each Variable:\n",
            "bathrooms       0\n",
            "bedrooms        0\n",
            "pets_allowed    0\n",
            "price           0\n",
            "square_feet     0\n",
            "latitude        0\n",
            "longitude       0\n",
            "time            0\n",
            "dtype: int64\n"
          ]
        }
      ]
    },
    {
      "cell_type": "markdown",
      "source": [
        "Now lets move onto feature engineering for our model!"
      ],
      "metadata": {
        "id": "aB7Kvs6evmcV"
      }
    },
    {
      "cell_type": "markdown",
      "source": [
        "### Feature Engineering"
      ],
      "metadata": {
        "id": "RZRvLGccGBIO"
      }
    },
    {
      "cell_type": "markdown",
      "source": [
        "For our feature engineering, I would like to translate pets_allowed into a numerical format for regression. I will simply set the value equal to 0, if they aren't, and 1 if they are."
      ],
      "metadata": {
        "id": "RRapbyRIwYzF"
      }
    },
    {
      "cell_type": "code",
      "source": [
        "# Replace 'None' and 'NA' values with an indicator for no pets allowed\n",
        "rental_copy['pets_allowed'] = rental_copy['pets_allowed'].replace(['None', 'NA'], 0)\n",
        "\n",
        "# Replace other values with an indicator for pets allowed\n",
        "rental_copy['pets_allowed'] = rental_copy['pets_allowed'].apply(lambda x: 1 if isinstance(x, str) else x)"
      ],
      "metadata": {
        "id": "IbW06f0YGDBc"
      },
      "execution_count": 83,
      "outputs": []
    },
    {
      "cell_type": "markdown",
      "source": [
        "I am also going to drop the two heavy outliers in price and squared feet, as regression models can be very heavily impacted by outliers and they are so rare."
      ],
      "metadata": {
        "id": "4HzcUhKe2PAP"
      }
    },
    {
      "cell_type": "code",
      "source": [
        "# Find the index of the row with the highest price\n",
        "max_price_index = rental_copy['price'].idxmax()\n",
        "\n",
        "# Drop the row with the highest price\n",
        "rental_copy = rental_copy.drop(index=max_price_index)"
      ],
      "metadata": {
        "id": "FYP75Rw81-Oz"
      },
      "execution_count": 84,
      "outputs": []
    },
    {
      "cell_type": "code",
      "source": [
        "# Find the index of the row with the highest price\n",
        "max_square_feet_index = rental_copy['square_feet'].idxmax()\n",
        "\n",
        "# Drop the row with the highest price\n",
        "rental_copy = rental_copy.drop(index=max_square_feet_index)\n"
      ],
      "metadata": {
        "id": "JyE5ytB12Dd_"
      },
      "execution_count": 85,
      "outputs": []
    },
    {
      "cell_type": "code",
      "source": [
        "display(rental_copy)"
      ],
      "metadata": {
        "colab": {
          "base_uri": "https://localhost:8080/",
          "height": 424
        },
        "id": "No37VSAp4Fcg",
        "outputId": "529c2dc4-9291-4056-890b-a85116e37452"
      },
      "execution_count": 86,
      "outputs": [
        {
          "output_type": "display_data",
          "data": {
            "text/plain": [
              "      bathrooms  bedrooms  pets_allowed    price  square_feet  latitude  \\\n",
              "0           1.0       0.0             1    790.0        101.0   38.9057   \n",
              "1           1.0       1.0             1    425.0        106.0   37.9680   \n",
              "2           1.0       0.0             1   1390.0        107.0   38.8910   \n",
              "3           1.0       0.0             1    925.0        116.0   47.6160   \n",
              "4           1.0       0.0             1    880.0        125.0   38.8738   \n",
              "...         ...       ...           ...      ...          ...       ...   \n",
              "9994        4.0       6.0             1   3000.0       5921.0   37.0835   \n",
              "9995        4.0       5.0             1   6000.0       6300.0   44.9000   \n",
              "9996        8.0       6.0             1  25000.0       8716.0   34.4331   \n",
              "9997        8.5       6.0             1  11000.0      11318.0   39.0287   \n",
              "9999        1.0       1.0             1   1009.0        880.0   34.0072   \n",
              "\n",
              "      longitude        time  \n",
              "0      -76.9861  1577359415  \n",
              "1      -87.6621  1577017063  \n",
              "2      -77.0816  1577359410  \n",
              "3     -122.3275  1576667743  \n",
              "4      -77.1055  1577359401  \n",
              "...         ...         ...  \n",
              "9994  -113.5823  1577017103  \n",
              "9995   -93.3233  1575112975  \n",
              "9996  -119.6331  1577360419  \n",
              "9997   -77.2409  1577360560  \n",
              "9999   -84.0034  1577362141  \n",
              "\n",
              "[9968 rows x 8 columns]"
            ],
            "text/html": [
              "\n",
              "  <div id=\"df-f40e661d-a1ac-49e1-9899-fee67f330a26\" class=\"colab-df-container\">\n",
              "    <div>\n",
              "<style scoped>\n",
              "    .dataframe tbody tr th:only-of-type {\n",
              "        vertical-align: middle;\n",
              "    }\n",
              "\n",
              "    .dataframe tbody tr th {\n",
              "        vertical-align: top;\n",
              "    }\n",
              "\n",
              "    .dataframe thead th {\n",
              "        text-align: right;\n",
              "    }\n",
              "</style>\n",
              "<table border=\"1\" class=\"dataframe\">\n",
              "  <thead>\n",
              "    <tr style=\"text-align: right;\">\n",
              "      <th></th>\n",
              "      <th>bathrooms</th>\n",
              "      <th>bedrooms</th>\n",
              "      <th>pets_allowed</th>\n",
              "      <th>price</th>\n",
              "      <th>square_feet</th>\n",
              "      <th>latitude</th>\n",
              "      <th>longitude</th>\n",
              "      <th>time</th>\n",
              "    </tr>\n",
              "  </thead>\n",
              "  <tbody>\n",
              "    <tr>\n",
              "      <th>0</th>\n",
              "      <td>1.0</td>\n",
              "      <td>0.0</td>\n",
              "      <td>1</td>\n",
              "      <td>790.0</td>\n",
              "      <td>101.0</td>\n",
              "      <td>38.9057</td>\n",
              "      <td>-76.9861</td>\n",
              "      <td>1577359415</td>\n",
              "    </tr>\n",
              "    <tr>\n",
              "      <th>1</th>\n",
              "      <td>1.0</td>\n",
              "      <td>1.0</td>\n",
              "      <td>1</td>\n",
              "      <td>425.0</td>\n",
              "      <td>106.0</td>\n",
              "      <td>37.9680</td>\n",
              "      <td>-87.6621</td>\n",
              "      <td>1577017063</td>\n",
              "    </tr>\n",
              "    <tr>\n",
              "      <th>2</th>\n",
              "      <td>1.0</td>\n",
              "      <td>0.0</td>\n",
              "      <td>1</td>\n",
              "      <td>1390.0</td>\n",
              "      <td>107.0</td>\n",
              "      <td>38.8910</td>\n",
              "      <td>-77.0816</td>\n",
              "      <td>1577359410</td>\n",
              "    </tr>\n",
              "    <tr>\n",
              "      <th>3</th>\n",
              "      <td>1.0</td>\n",
              "      <td>0.0</td>\n",
              "      <td>1</td>\n",
              "      <td>925.0</td>\n",
              "      <td>116.0</td>\n",
              "      <td>47.6160</td>\n",
              "      <td>-122.3275</td>\n",
              "      <td>1576667743</td>\n",
              "    </tr>\n",
              "    <tr>\n",
              "      <th>4</th>\n",
              "      <td>1.0</td>\n",
              "      <td>0.0</td>\n",
              "      <td>1</td>\n",
              "      <td>880.0</td>\n",
              "      <td>125.0</td>\n",
              "      <td>38.8738</td>\n",
              "      <td>-77.1055</td>\n",
              "      <td>1577359401</td>\n",
              "    </tr>\n",
              "    <tr>\n",
              "      <th>...</th>\n",
              "      <td>...</td>\n",
              "      <td>...</td>\n",
              "      <td>...</td>\n",
              "      <td>...</td>\n",
              "      <td>...</td>\n",
              "      <td>...</td>\n",
              "      <td>...</td>\n",
              "      <td>...</td>\n",
              "    </tr>\n",
              "    <tr>\n",
              "      <th>9994</th>\n",
              "      <td>4.0</td>\n",
              "      <td>6.0</td>\n",
              "      <td>1</td>\n",
              "      <td>3000.0</td>\n",
              "      <td>5921.0</td>\n",
              "      <td>37.0835</td>\n",
              "      <td>-113.5823</td>\n",
              "      <td>1577017103</td>\n",
              "    </tr>\n",
              "    <tr>\n",
              "      <th>9995</th>\n",
              "      <td>4.0</td>\n",
              "      <td>5.0</td>\n",
              "      <td>1</td>\n",
              "      <td>6000.0</td>\n",
              "      <td>6300.0</td>\n",
              "      <td>44.9000</td>\n",
              "      <td>-93.3233</td>\n",
              "      <td>1575112975</td>\n",
              "    </tr>\n",
              "    <tr>\n",
              "      <th>9996</th>\n",
              "      <td>8.0</td>\n",
              "      <td>6.0</td>\n",
              "      <td>1</td>\n",
              "      <td>25000.0</td>\n",
              "      <td>8716.0</td>\n",
              "      <td>34.4331</td>\n",
              "      <td>-119.6331</td>\n",
              "      <td>1577360419</td>\n",
              "    </tr>\n",
              "    <tr>\n",
              "      <th>9997</th>\n",
              "      <td>8.5</td>\n",
              "      <td>6.0</td>\n",
              "      <td>1</td>\n",
              "      <td>11000.0</td>\n",
              "      <td>11318.0</td>\n",
              "      <td>39.0287</td>\n",
              "      <td>-77.2409</td>\n",
              "      <td>1577360560</td>\n",
              "    </tr>\n",
              "    <tr>\n",
              "      <th>9999</th>\n",
              "      <td>1.0</td>\n",
              "      <td>1.0</td>\n",
              "      <td>1</td>\n",
              "      <td>1009.0</td>\n",
              "      <td>880.0</td>\n",
              "      <td>34.0072</td>\n",
              "      <td>-84.0034</td>\n",
              "      <td>1577362141</td>\n",
              "    </tr>\n",
              "  </tbody>\n",
              "</table>\n",
              "<p>9968 rows × 8 columns</p>\n",
              "</div>\n",
              "    <div class=\"colab-df-buttons\">\n",
              "\n",
              "  <div class=\"colab-df-container\">\n",
              "    <button class=\"colab-df-convert\" onclick=\"convertToInteractive('df-f40e661d-a1ac-49e1-9899-fee67f330a26')\"\n",
              "            title=\"Convert this dataframe to an interactive table.\"\n",
              "            style=\"display:none;\">\n",
              "\n",
              "  <svg xmlns=\"http://www.w3.org/2000/svg\" height=\"24px\" viewBox=\"0 -960 960 960\">\n",
              "    <path d=\"M120-120v-720h720v720H120Zm60-500h600v-160H180v160Zm220 220h160v-160H400v160Zm0 220h160v-160H400v160ZM180-400h160v-160H180v160Zm440 0h160v-160H620v160ZM180-180h160v-160H180v160Zm440 0h160v-160H620v160Z\"/>\n",
              "  </svg>\n",
              "    </button>\n",
              "\n",
              "  <style>\n",
              "    .colab-df-container {\n",
              "      display:flex;\n",
              "      gap: 12px;\n",
              "    }\n",
              "\n",
              "    .colab-df-convert {\n",
              "      background-color: #E8F0FE;\n",
              "      border: none;\n",
              "      border-radius: 50%;\n",
              "      cursor: pointer;\n",
              "      display: none;\n",
              "      fill: #1967D2;\n",
              "      height: 32px;\n",
              "      padding: 0 0 0 0;\n",
              "      width: 32px;\n",
              "    }\n",
              "\n",
              "    .colab-df-convert:hover {\n",
              "      background-color: #E2EBFA;\n",
              "      box-shadow: 0px 1px 2px rgba(60, 64, 67, 0.3), 0px 1px 3px 1px rgba(60, 64, 67, 0.15);\n",
              "      fill: #174EA6;\n",
              "    }\n",
              "\n",
              "    .colab-df-buttons div {\n",
              "      margin-bottom: 4px;\n",
              "    }\n",
              "\n",
              "    [theme=dark] .colab-df-convert {\n",
              "      background-color: #3B4455;\n",
              "      fill: #D2E3FC;\n",
              "    }\n",
              "\n",
              "    [theme=dark] .colab-df-convert:hover {\n",
              "      background-color: #434B5C;\n",
              "      box-shadow: 0px 1px 3px 1px rgba(0, 0, 0, 0.15);\n",
              "      filter: drop-shadow(0px 1px 2px rgba(0, 0, 0, 0.3));\n",
              "      fill: #FFFFFF;\n",
              "    }\n",
              "  </style>\n",
              "\n",
              "    <script>\n",
              "      const buttonEl =\n",
              "        document.querySelector('#df-f40e661d-a1ac-49e1-9899-fee67f330a26 button.colab-df-convert');\n",
              "      buttonEl.style.display =\n",
              "        google.colab.kernel.accessAllowed ? 'block' : 'none';\n",
              "\n",
              "      async function convertToInteractive(key) {\n",
              "        const element = document.querySelector('#df-f40e661d-a1ac-49e1-9899-fee67f330a26');\n",
              "        const dataTable =\n",
              "          await google.colab.kernel.invokeFunction('convertToInteractive',\n",
              "                                                    [key], {});\n",
              "        if (!dataTable) return;\n",
              "\n",
              "        const docLinkHtml = 'Like what you see? Visit the ' +\n",
              "          '<a target=\"_blank\" href=https://colab.research.google.com/notebooks/data_table.ipynb>data table notebook</a>'\n",
              "          + ' to learn more about interactive tables.';\n",
              "        element.innerHTML = '';\n",
              "        dataTable['output_type'] = 'display_data';\n",
              "        await google.colab.output.renderOutput(dataTable, element);\n",
              "        const docLink = document.createElement('div');\n",
              "        docLink.innerHTML = docLinkHtml;\n",
              "        element.appendChild(docLink);\n",
              "      }\n",
              "    </script>\n",
              "  </div>\n",
              "\n",
              "\n",
              "<div id=\"df-4da293bb-1db1-444d-bd3a-90a26fcad02a\">\n",
              "  <button class=\"colab-df-quickchart\" onclick=\"quickchart('df-4da293bb-1db1-444d-bd3a-90a26fcad02a')\"\n",
              "            title=\"Suggest charts\"\n",
              "            style=\"display:none;\">\n",
              "\n",
              "<svg xmlns=\"http://www.w3.org/2000/svg\" height=\"24px\"viewBox=\"0 0 24 24\"\n",
              "     width=\"24px\">\n",
              "    <g>\n",
              "        <path d=\"M19 3H5c-1.1 0-2 .9-2 2v14c0 1.1.9 2 2 2h14c1.1 0 2-.9 2-2V5c0-1.1-.9-2-2-2zM9 17H7v-7h2v7zm4 0h-2V7h2v10zm4 0h-2v-4h2v4z\"/>\n",
              "    </g>\n",
              "</svg>\n",
              "  </button>\n",
              "\n",
              "<style>\n",
              "  .colab-df-quickchart {\n",
              "      --bg-color: #E8F0FE;\n",
              "      --fill-color: #1967D2;\n",
              "      --hover-bg-color: #E2EBFA;\n",
              "      --hover-fill-color: #174EA6;\n",
              "      --disabled-fill-color: #AAA;\n",
              "      --disabled-bg-color: #DDD;\n",
              "  }\n",
              "\n",
              "  [theme=dark] .colab-df-quickchart {\n",
              "      --bg-color: #3B4455;\n",
              "      --fill-color: #D2E3FC;\n",
              "      --hover-bg-color: #434B5C;\n",
              "      --hover-fill-color: #FFFFFF;\n",
              "      --disabled-bg-color: #3B4455;\n",
              "      --disabled-fill-color: #666;\n",
              "  }\n",
              "\n",
              "  .colab-df-quickchart {\n",
              "    background-color: var(--bg-color);\n",
              "    border: none;\n",
              "    border-radius: 50%;\n",
              "    cursor: pointer;\n",
              "    display: none;\n",
              "    fill: var(--fill-color);\n",
              "    height: 32px;\n",
              "    padding: 0;\n",
              "    width: 32px;\n",
              "  }\n",
              "\n",
              "  .colab-df-quickchart:hover {\n",
              "    background-color: var(--hover-bg-color);\n",
              "    box-shadow: 0 1px 2px rgba(60, 64, 67, 0.3), 0 1px 3px 1px rgba(60, 64, 67, 0.15);\n",
              "    fill: var(--button-hover-fill-color);\n",
              "  }\n",
              "\n",
              "  .colab-df-quickchart-complete:disabled,\n",
              "  .colab-df-quickchart-complete:disabled:hover {\n",
              "    background-color: var(--disabled-bg-color);\n",
              "    fill: var(--disabled-fill-color);\n",
              "    box-shadow: none;\n",
              "  }\n",
              "\n",
              "  .colab-df-spinner {\n",
              "    border: 2px solid var(--fill-color);\n",
              "    border-color: transparent;\n",
              "    border-bottom-color: var(--fill-color);\n",
              "    animation:\n",
              "      spin 1s steps(1) infinite;\n",
              "  }\n",
              "\n",
              "  @keyframes spin {\n",
              "    0% {\n",
              "      border-color: transparent;\n",
              "      border-bottom-color: var(--fill-color);\n",
              "      border-left-color: var(--fill-color);\n",
              "    }\n",
              "    20% {\n",
              "      border-color: transparent;\n",
              "      border-left-color: var(--fill-color);\n",
              "      border-top-color: var(--fill-color);\n",
              "    }\n",
              "    30% {\n",
              "      border-color: transparent;\n",
              "      border-left-color: var(--fill-color);\n",
              "      border-top-color: var(--fill-color);\n",
              "      border-right-color: var(--fill-color);\n",
              "    }\n",
              "    40% {\n",
              "      border-color: transparent;\n",
              "      border-right-color: var(--fill-color);\n",
              "      border-top-color: var(--fill-color);\n",
              "    }\n",
              "    60% {\n",
              "      border-color: transparent;\n",
              "      border-right-color: var(--fill-color);\n",
              "    }\n",
              "    80% {\n",
              "      border-color: transparent;\n",
              "      border-right-color: var(--fill-color);\n",
              "      border-bottom-color: var(--fill-color);\n",
              "    }\n",
              "    90% {\n",
              "      border-color: transparent;\n",
              "      border-bottom-color: var(--fill-color);\n",
              "    }\n",
              "  }\n",
              "</style>\n",
              "\n",
              "  <script>\n",
              "    async function quickchart(key) {\n",
              "      const quickchartButtonEl =\n",
              "        document.querySelector('#' + key + ' button');\n",
              "      quickchartButtonEl.disabled = true;  // To prevent multiple clicks.\n",
              "      quickchartButtonEl.classList.add('colab-df-spinner');\n",
              "      try {\n",
              "        const charts = await google.colab.kernel.invokeFunction(\n",
              "            'suggestCharts', [key], {});\n",
              "      } catch (error) {\n",
              "        console.error('Error during call to suggestCharts:', error);\n",
              "      }\n",
              "      quickchartButtonEl.classList.remove('colab-df-spinner');\n",
              "      quickchartButtonEl.classList.add('colab-df-quickchart-complete');\n",
              "    }\n",
              "    (() => {\n",
              "      let quickchartButtonEl =\n",
              "        document.querySelector('#df-4da293bb-1db1-444d-bd3a-90a26fcad02a button');\n",
              "      quickchartButtonEl.style.display =\n",
              "        google.colab.kernel.accessAllowed ? 'block' : 'none';\n",
              "    })();\n",
              "  </script>\n",
              "</div>\n",
              "\n",
              "  <div id=\"id_6e3bef79-97fa-42ec-98be-1805da79d3b1\">\n",
              "    <style>\n",
              "      .colab-df-generate {\n",
              "        background-color: #E8F0FE;\n",
              "        border: none;\n",
              "        border-radius: 50%;\n",
              "        cursor: pointer;\n",
              "        display: none;\n",
              "        fill: #1967D2;\n",
              "        height: 32px;\n",
              "        padding: 0 0 0 0;\n",
              "        width: 32px;\n",
              "      }\n",
              "\n",
              "      .colab-df-generate:hover {\n",
              "        background-color: #E2EBFA;\n",
              "        box-shadow: 0px 1px 2px rgba(60, 64, 67, 0.3), 0px 1px 3px 1px rgba(60, 64, 67, 0.15);\n",
              "        fill: #174EA6;\n",
              "      }\n",
              "\n",
              "      [theme=dark] .colab-df-generate {\n",
              "        background-color: #3B4455;\n",
              "        fill: #D2E3FC;\n",
              "      }\n",
              "\n",
              "      [theme=dark] .colab-df-generate:hover {\n",
              "        background-color: #434B5C;\n",
              "        box-shadow: 0px 1px 3px 1px rgba(0, 0, 0, 0.15);\n",
              "        filter: drop-shadow(0px 1px 2px rgba(0, 0, 0, 0.3));\n",
              "        fill: #FFFFFF;\n",
              "      }\n",
              "    </style>\n",
              "    <button class=\"colab-df-generate\" onclick=\"generateWithVariable('rental_copy')\"\n",
              "            title=\"Generate code using this dataframe.\"\n",
              "            style=\"display:none;\">\n",
              "\n",
              "  <svg xmlns=\"http://www.w3.org/2000/svg\" height=\"24px\"viewBox=\"0 0 24 24\"\n",
              "       width=\"24px\">\n",
              "    <path d=\"M7,19H8.4L18.45,9,17,7.55,7,17.6ZM5,21V16.75L18.45,3.32a2,2,0,0,1,2.83,0l1.4,1.43a1.91,1.91,0,0,1,.58,1.4,1.91,1.91,0,0,1-.58,1.4L9.25,21ZM18.45,9,17,7.55Zm-12,3A5.31,5.31,0,0,0,4.9,8.1,5.31,5.31,0,0,0,1,6.5,5.31,5.31,0,0,0,4.9,4.9,5.31,5.31,0,0,0,6.5,1,5.31,5.31,0,0,0,8.1,4.9,5.31,5.31,0,0,0,12,6.5,5.46,5.46,0,0,0,6.5,12Z\"/>\n",
              "  </svg>\n",
              "    </button>\n",
              "    <script>\n",
              "      (() => {\n",
              "      const buttonEl =\n",
              "        document.querySelector('#id_6e3bef79-97fa-42ec-98be-1805da79d3b1 button.colab-df-generate');\n",
              "      buttonEl.style.display =\n",
              "        google.colab.kernel.accessAllowed ? 'block' : 'none';\n",
              "\n",
              "      buttonEl.onclick = () => {\n",
              "        google.colab.notebook.generateWithVariable('rental_copy');\n",
              "      }\n",
              "      })();\n",
              "    </script>\n",
              "  </div>\n",
              "\n",
              "    </div>\n",
              "  </div>\n"
            ],
            "application/vnd.google.colaboratory.intrinsic+json": {
              "type": "dataframe",
              "variable_name": "rental_copy",
              "summary": "{\n  \"name\": \"rental_copy\",\n  \"rows\": 9968,\n  \"fields\": [\n    {\n      \"column\": \"bathrooms\",\n      \"properties\": {\n        \"dtype\": \"number\",\n        \"std\": 0.6021384879612262,\n        \"min\": 1.0,\n        \"max\": 8.5,\n        \"num_unique_values\": 14,\n        \"samples\": [\n          5.5,\n          6.0,\n          1.0\n        ],\n        \"semantic_type\": \"\",\n        \"description\": \"\"\n      }\n    },\n    {\n      \"column\": \"bedrooms\",\n      \"properties\": {\n        \"dtype\": \"number\",\n        \"std\": 0.9417023611776594,\n        \"min\": 0.0,\n        \"max\": 9.0,\n        \"num_unique_values\": 10,\n        \"samples\": [\n          8.0,\n          1.0,\n          5.0\n        ],\n        \"semantic_type\": \"\",\n        \"description\": \"\"\n      }\n    },\n    {\n      \"column\": \"pets_allowed\",\n      \"properties\": {\n        \"dtype\": \"number\",\n        \"std\": 0,\n        \"min\": 1,\n        \"max\": 1,\n        \"num_unique_values\": 1,\n        \"samples\": [\n          1\n        ],\n        \"semantic_type\": \"\",\n        \"description\": \"\"\n      }\n    },\n    {\n      \"column\": \"price\",\n      \"properties\": {\n        \"dtype\": \"number\",\n        \"std\": 944.7057510306057,\n        \"min\": 200.0,\n        \"max\": 25000.0,\n        \"num_unique_values\": 1721,\n        \"samples\": [\n          1669.0\n        ],\n        \"semantic_type\": \"\",\n        \"description\": \"\"\n      }\n    },\n    {\n      \"column\": \"square_feet\",\n      \"properties\": {\n        \"dtype\": \"number\",\n        \"std\": 520.4530634343365,\n        \"min\": 101.0,\n        \"max\": 11318.0,\n        \"num_unique_values\": 1719,\n        \"samples\": [\n          897.0\n        ],\n        \"semantic_type\": \"\",\n        \"description\": \"\"\n      }\n    },\n    {\n      \"column\": \"latitude\",\n      \"properties\": {\n        \"dtype\": \"number\",\n        \"std\": 5.495259250698011,\n        \"min\": 21.3155,\n        \"max\": 61.594,\n        \"num_unique_values\": 2390,\n        \"samples\": [\n          41.61\n        ],\n        \"semantic_type\": \"\",\n        \"description\": \"\"\n      }\n    },\n    {\n      \"column\": \"longitude\",\n      \"properties\": {\n        \"dtype\": \"number\",\n        \"std\": 15.7513060996062,\n        \"min\": -158.0221,\n        \"max\": -70.1916,\n        \"num_unique_values\": 2388,\n        \"samples\": [\n          -71.5151\n        ],\n        \"semantic_type\": \"\",\n        \"description\": \"\"\n      }\n    },\n    {\n      \"column\": \"time\",\n      \"properties\": {\n        \"dtype\": \"number\",\n        \"std\": 3764593,\n        \"min\": 1568743976,\n        \"max\": 1577362171,\n        \"num_unique_values\": 6297,\n        \"samples\": [\n          1577359819\n        ],\n        \"semantic_type\": \"\",\n        \"description\": \"\"\n      }\n    }\n  ]\n}"
            }
          },
          "metadata": {}
        }
      ]
    },
    {
      "cell_type": "markdown",
      "source": [
        "## Model Construction"
      ],
      "metadata": {
        "id": "4QVTNr8XqoeT"
      }
    },
    {
      "cell_type": "markdown",
      "source": [
        "Now that everything is set for our model, lets create it."
      ],
      "metadata": {
        "id": "HNYsIzThyUEC"
      }
    },
    {
      "cell_type": "markdown",
      "source": [
        "### Building the Predictive Model"
      ],
      "metadata": {
        "id": "G5sxVn_GGEnb"
      }
    },
    {
      "cell_type": "code",
      "source": [
        "from sklearn.model_selection import train_test_split\n",
        "from sklearn.linear_model import LinearRegression\n",
        "from sklearn.metrics import mean_squared_error, r2_score\n",
        "\n",
        "# Drop the target variable 'price'\n",
        "X = rental_copy.drop(['price'], axis=1)\n",
        "\n",
        "# Target variable\n",
        "y = rental_copy['price']\n",
        "\n",
        "# Split the data into training and testing sets\n",
        "X_train, X_test, y_train, y_test = train_test_split(X, y, test_size=0.3, random_state=42)\n",
        "\n",
        "# Create and fit the linear regression model\n",
        "model = LinearRegression()\n",
        "model.fit(X_train, y_train)\n",
        "\n",
        "# Make predictions on the test set\n",
        "y_pred = model.predict(X_test)\n",
        "\n",
        "# Evaluate the model\n",
        "mse = mean_squared_error(y_test, y_pred)\n",
        "r2 = r2_score(y_test, y_pred)\n",
        "\n",
        "print(f'Mean Squared Error: {mse}')\n",
        "print(f'R-squared: {r2}')\n"
      ],
      "metadata": {
        "colab": {
          "base_uri": "https://localhost:8080/"
        },
        "id": "h3eEuXnwGKXi",
        "outputId": "b083d907-5758-4bc8-82a0-4f4f2db1cdf5"
      },
      "execution_count": 87,
      "outputs": [
        {
          "output_type": "stream",
          "name": "stdout",
          "text": [
            "Mean Squared Error: 585849.0223300855\n",
            "R-squared: 0.3305321922059644\n"
          ]
        }
      ]
    },
    {
      "cell_type": "markdown",
      "source": [
        "It is a good start, but I am not happy with 0.33 r squared. Lets try polynomial regression."
      ],
      "metadata": {
        "id": "fzvW-f8S-_ni"
      }
    },
    {
      "cell_type": "code",
      "source": [
        "from sklearn.preprocessing import PolynomialFeatures\n",
        "from sklearn.pipeline import make_pipeline\n",
        "\n",
        "# Create a polynomial regression model\n",
        "polyreg = make_pipeline(PolynomialFeatures(2), LinearRegression())\n",
        "\n",
        "# Fit the model\n",
        "polyreg.fit(X_train, y_train)\n",
        "\n",
        "# Make predictions on the test set\n",
        "y_pred_poly = polyreg.predict(X_test)\n",
        "\n",
        "# Evaluate the model\n",
        "mse_poly = mean_squared_error(y_test, y_pred_poly)\n",
        "r2_poly = r2_score(y_test, y_pred_poly)\n",
        "\n",
        "print(f'Mean Squared Error (Polynomial Regression): {mse_poly}')\n",
        "print(f'R-squared (Polynomial Regression): {r2_poly}')"
      ],
      "metadata": {
        "colab": {
          "base_uri": "https://localhost:8080/"
        },
        "id": "2DZBNLQr6g0j",
        "outputId": "6621ce5f-bc16-4b7f-c3cf-808e00870872"
      },
      "execution_count": 88,
      "outputs": [
        {
          "output_type": "stream",
          "name": "stdout",
          "text": [
            "Mean Squared Error (Polynomial Regression): 523601.3714820327\n",
            "R-squared (Polynomial Regression): 0.4016645091770332\n"
          ]
        }
      ]
    },
    {
      "cell_type": "markdown",
      "source": [
        "0.4 is a big improvement, still not in the range I am looking for. Lets try other degrees."
      ],
      "metadata": {
        "id": "usQ7Zn0Z_GQg"
      }
    },
    {
      "cell_type": "code",
      "source": [
        "from sklearn.preprocessing import PolynomialFeatures\n",
        "from sklearn.pipeline import make_pipeline\n",
        "\n",
        "# Create a polynomial regression model\n",
        "polyreg = make_pipeline(PolynomialFeatures(3), LinearRegression())\n",
        "\n",
        "# Fit the model\n",
        "polyreg.fit(X_train, y_train)\n",
        "\n",
        "# Make predictions on the test set\n",
        "y_pred_poly = polyreg.predict(X_test)\n",
        "\n",
        "# Evaluate the model\n",
        "mse_poly = mean_squared_error(y_test, y_pred_poly)\n",
        "r2_poly = r2_score(y_test, y_pred_poly)\n",
        "\n",
        "print(f'Mean Squared Error (Polynomial Regression): {mse_poly}')\n",
        "print(f'R-squared (Polynomial Regression): {r2_poly}')"
      ],
      "metadata": {
        "colab": {
          "base_uri": "https://localhost:8080/"
        },
        "id": "sj3p0aU5s22I",
        "outputId": "45658959-5515-40d6-e6dc-d02ba42f5412"
      },
      "execution_count": 89,
      "outputs": [
        {
          "output_type": "stream",
          "name": "stdout",
          "text": [
            "Mean Squared Error (Polynomial Regression): 528398.6586893806\n",
            "R-squared (Polynomial Regression): 0.39618250062594274\n"
          ]
        }
      ]
    },
    {
      "cell_type": "code",
      "source": [
        "from sklearn.preprocessing import PolynomialFeatures\n",
        "from sklearn.pipeline import make_pipeline\n",
        "\n",
        "# Create a polynomial regression model\n",
        "polyreg = make_pipeline(PolynomialFeatures(4), LinearRegression())\n",
        "\n",
        "# Fit the model\n",
        "polyreg.fit(X_train, y_train)\n",
        "\n",
        "# Make predictions on the test set\n",
        "y_pred_poly = polyreg.predict(X_test)\n",
        "\n",
        "# Evaluate the model\n",
        "mse_poly = mean_squared_error(y_test, y_pred_poly)\n",
        "r2_poly = r2_score(y_test, y_pred_poly)\n",
        "\n",
        "print(f'Mean Squared Error (Polynomial Regression): {mse_poly}')\n",
        "print(f'R-squared (Polynomial Regression): {r2_poly}')"
      ],
      "metadata": {
        "colab": {
          "base_uri": "https://localhost:8080/"
        },
        "id": "nevg4Pais5b5",
        "outputId": "b9770a09-b606-4846-c0b4-a75a9a32c05a"
      },
      "execution_count": 90,
      "outputs": [
        {
          "output_type": "stream",
          "name": "stdout",
          "text": [
            "Mean Squared Error (Polynomial Regression): 532245.9189884746\n",
            "R-squared (Polynomial Regression): 0.39178611722292267\n"
          ]
        }
      ]
    },
    {
      "cell_type": "markdown",
      "source": [
        "The R-squared got lower with higher degrees, so I believe the second degree will be the highest. I am not happy with 0.4, so lets try a better regression model"
      ],
      "metadata": {
        "id": "eDsUMGE0tIvK"
      }
    },
    {
      "cell_type": "code",
      "source": [
        "from sklearn.model_selection import train_test_split\n",
        "from xgboost import XGBRegressor\n",
        "from sklearn.metrics import mean_squared_error, r2_score\n",
        "\n",
        "# Assuming 'rental_copy' is your DataFrame\n",
        "# Drop the target variable 'price' and any other non-numeric variables\n",
        "X = rental_copy.drop(['price'], axis=1)\n",
        "\n",
        "# Target variable\n",
        "y = rental_copy['price']\n",
        "\n",
        "# Split the data into training and testing sets\n",
        "X_train, X_test, y_train, y_test = train_test_split(X, y, test_size=0.2)\n",
        "\n",
        "# Create and fit the XGBoost regression model\n",
        "model = XGBRegressor()\n",
        "model.fit(X_train, y_train)\n",
        "\n",
        "# Make predictions on the test set\n",
        "y_pred = model.predict(X_test)\n",
        "\n",
        "# Evaluate the model\n",
        "mse = mean_squared_error(y_test, y_pred)\n",
        "r2 = r2_score(y_test, y_pred)\n",
        "\n",
        "print(f'Mean Squared Error: {mse}')\n",
        "print(f'R-squared: {r2}')\n"
      ],
      "metadata": {
        "colab": {
          "base_uri": "https://localhost:8080/"
        },
        "id": "MO9ADAf8qcsp",
        "outputId": "9d0c0cbb-2f71-48f4-f7c6-e79118f12d72"
      },
      "execution_count": 91,
      "outputs": [
        {
          "output_type": "stream",
          "name": "stdout",
          "text": [
            "Mean Squared Error: 308392.18019426835\n",
            "R-squared: 0.7013002703019038\n"
          ]
        }
      ]
    },
    {
      "cell_type": "markdown",
      "source": [
        "I am very happy with 0.71, the gradient boosting of of XGBoost seems to be perfect for our large dataset with many variables."
      ],
      "metadata": {
        "id": "qC621ZjLuJKw"
      }
    },
    {
      "cell_type": "markdown",
      "source": [
        "### Model Description"
      ],
      "metadata": {
        "id": "cjBHXjbCGGi3"
      }
    },
    {
      "cell_type": "code",
      "source": [
        "# Scatter plot of actual vs predicted prices\n",
        "plt.scatter(y_test, y_pred)\n",
        "plt.plot([min(y_test), max(y_test)], [min(y_test), max(y_test)], linestyle='--', color='red', linewidth=2, label='Perfect Prediction')\n",
        "plt.title('Actual vs Predicted Prices (XGBoost)')\n",
        "plt.xlabel('Actual Prices')\n",
        "plt.ylabel('Predicted Prices')\n",
        "plt.legend()\n",
        "plt.show()"
      ],
      "metadata": {
        "colab": {
          "base_uri": "https://localhost:8080/",
          "height": 472
        },
        "id": "syiCyKkirX8D",
        "outputId": "c436f802-283c-4edd-e534-3322d0ce9e5d"
      },
      "execution_count": 92,
      "outputs": [
        {
          "output_type": "display_data",
          "data": {
            "text/plain": [
              "<Figure size 640x480 with 1 Axes>"
            ],
            "image/png": "[encoded data removed]"
          },
          "metadata": {}
        }
      ]
    },
    {
      "cell_type": "markdown",
      "source": [
        "In the visualization above, we are examining the performance of our predictive model for rental prices. The x-axis represents the actual prices of rental properties, while the y-axis displays the prices predicted by our model.\n",
        "\n",
        "Ideally, a perfect prediction would align precisely with the red dotted line. However, due to the complexity of real-world data, our predictions deviate from this line. Each point on the plot corresponds to a specific rental property, and their distribution provides insights into the accuracy of our model.\n",
        "\n",
        "In summary, this visualization allows us to assess how well our model predicts rental prices, offering a valuable tool for understanding its strengths and areas for improvement."
      ],
      "metadata": {
        "id": "CAsJvMYAGKok"
      }
    },
    {
      "cell_type": "markdown",
      "source": [
        "# Market Determination"
      ],
      "metadata": {
        "id": "IwyHaChq6baB"
      }
    },
    {
      "cell_type": "markdown",
      "source": [
        "In this section we are going to build two more models. One based on geography, and one based on date."
      ],
      "metadata": {
        "id": "0WfOHHd5E3fT"
      }
    },
    {
      "cell_type": "markdown",
      "source": [
        "## Based on Geography"
      ],
      "metadata": {
        "id": "KfPRmIxhqzzT"
      }
    },
    {
      "cell_type": "markdown",
      "source": [
        "### Exploratory Data Analysis"
      ],
      "metadata": {
        "id": "RwtLy3MPrGBh"
      }
    },
    {
      "cell_type": "markdown",
      "source": [
        "First we will make a new copy of our original dataset"
      ],
      "metadata": {
        "id": "xJXQy-TSHzkq"
      }
    },
    {
      "cell_type": "code",
      "source": [
        "geo_rent = rental.copy()"
      ],
      "metadata": {
        "id": "Nf4xyNQ9Hp0E"
      },
      "execution_count": 93,
      "outputs": []
    },
    {
      "cell_type": "markdown",
      "source": [
        "#### Descriptive Statistics of Geography based on rent"
      ],
      "metadata": {
        "id": "dPp6v6mbH4EN"
      }
    },
    {
      "cell_type": "markdown",
      "source": [
        "First I will make a box and whisker chart to see the rent in different states."
      ],
      "metadata": {
        "id": "w1Osbnz4IDHv"
      }
    },
    {
      "cell_type": "code",
      "source": [
        "# Create a boxplot\n",
        "plt.figure(figsize=(18, 6))\n",
        "sns.boxplot(x='state', y='price', data=geo_rent)\n",
        "plt.title('Boxplot of Rental Prices by State')\n",
        "plt.show()"
      ],
      "metadata": {
        "colab": {
          "base_uri": "https://localhost:8080/",
          "height": 564
        },
        "id": "TaOB7ED9MdVc",
        "outputId": "6c13b1d6-6a9d-4032-8ee5-4697cee7d3fd"
      },
      "execution_count": 94,
      "outputs": [
        {
          "output_type": "display_data",
          "data": {
            "text/plain": [
              "<Figure size 1800x600 with 1 Axes>"
            ],
            "image/png": "[encoded data removed]"
          },
          "metadata": {}
        }
      ]
    },
    {
      "cell_type": "markdown",
      "source": [
        "Here you can see california being fairly unique, it has a higher average and also includes most of our heavy skewing prices and the largest outlier. Some states like Hawaii and Massachusetts also stand out for being on the higher end, and some like Wyoming stand out for being on the lower end."
      ],
      "metadata": {
        "id": "fw6YSeZPN0su"
      }
    },
    {
      "cell_type": "markdown",
      "source": [
        "Now I want to calculate how many datapoints are in each state, as it will vary a lot. I also will show the average rent price too."
      ],
      "metadata": {
        "id": "bE-ZAlCSIP92"
      }
    },
    {
      "cell_type": "code",
      "source": [
        "state_stats = geo_rent.groupby('state')['price'].agg(['count', 'mean'])\n",
        "print(state_stats)"
      ],
      "metadata": {
        "colab": {
          "base_uri": "https://localhost:8080/"
        },
        "id": "IOF9cxnyIXLC",
        "outputId": "bb0604d7-b6a0-405f-e7d8-799217730c96"
      },
      "execution_count": 95,
      "outputs": [
        {
          "output_type": "stream",
          "name": "stdout",
          "text": [
            "       count         mean\n",
            "state                    \n",
            "AK        44  1011.636364\n",
            "AL        55  1353.018182\n",
            "AR        55  1032.000000\n",
            "AZ       125  1148.704000\n",
            "CA       951  2827.812829\n",
            "CO       317  1370.132492\n",
            "CT        98  1283.122449\n",
            "DC        79  2107.594937\n",
            "DE         5  1296.800000\n",
            "FL       335  1527.540299\n",
            "GA       369  1264.512195\n",
            "HI        12  3689.083333\n",
            "IA       179   941.720670\n",
            "ID        21  1372.666667\n",
            "IL       282  1459.368794\n",
            "IN       238  1110.466387\n",
            "KS        83  1014.096386\n",
            "KY        40   948.775000\n",
            "LA        65  1029.123077\n",
            "MA       167  2378.946108\n",
            "MD       421  1587.187648\n",
            "ME         2  1862.500000\n",
            "MI       176  1306.426136\n",
            "MN       221  1366.063348\n",
            "MO       239   983.958159\n",
            "MS         9   986.111111\n",
            "MT         7  1755.714286\n",
            "NC       438  1193.780822\n",
            "ND       113   938.442478\n",
            "NE       104   940.634615\n",
            "NH        70  1392.585714\n",
            "NJ       383  1960.227154\n",
            "NM        14   963.500000\n",
            "NV       120  1343.866667\n",
            "NY        71  1739.183099\n",
            "OH       321  1118.881620\n",
            "OK       178  1057.353933\n",
            "OR       196  1555.581633\n",
            "PA       182  1285.741758\n",
            "RI        11  1994.000000\n",
            "SC        77  1314.688312\n",
            "SD        66   910.166667\n",
            "TN        92  1338.467391\n",
            "TX      1732  1160.928406\n",
            "UT        84  1307.750000\n",
            "VA       204  1444.534314\n",
            "VT        16  1406.250000\n",
            "WA       516  1775.577519\n",
            "WI       302  1294.473510\n",
            "WV         3  1102.666667\n",
            "WY         1   713.000000\n"
          ]
        }
      ]
    },
    {
      "cell_type": "markdown",
      "source": [
        "As you can see, some states have lots of listings, and some have barely any."
      ],
      "metadata": {
        "id": "lt_z6tg_Ia1W"
      }
    },
    {
      "cell_type": "markdown",
      "source": [
        "Next we'll look at cities. With how many cities there are, it is not realistic to see a relationship between each city and price. Instead we'll look at the 10 with highest average rent, and 10 with lowest average rent."
      ],
      "metadata": {
        "id": "ap8yxVL5Oekv"
      }
    },
    {
      "cell_type": "markdown",
      "source": [
        "Now I want to look at cities. It is not logical to look at every single city, there would be way too many, but instead lets look at the 10 highest and 10 lowest."
      ],
      "metadata": {
        "id": "XR-HwcsdIjIc"
      }
    },
    {
      "cell_type": "code",
      "source": [
        "# Calculate the average rental price for each city\n",
        "average_prices_by_city = rental.groupby('cityname')['price'].mean()\n",
        "\n",
        "# Select the top 10 cities with the highest average rental prices\n",
        "top_10_high_prices = average_prices_by_city.nlargest(10)\n",
        "\n",
        "# Select the top 10 cities with the lowest average rental prices\n",
        "top_10_low_prices = average_prices_by_city.nsmallest(10)\n",
        "\n",
        "# Display the lists of cities\n",
        "print(\"Top 10 cities with the highest average rental prices:\")\n",
        "print(top_10_high_prices)\n",
        "\n",
        "print(\"\\nTop 10 cities with the lowest average rental prices:\")\n",
        "print(top_10_low_prices)"
      ],
      "metadata": {
        "colab": {
          "base_uri": "https://localhost:8080/"
        },
        "id": "8v_z4r1qO2kj",
        "outputId": "cb47bba2-db0b-4ad6-8ee6-0b092ddae1bf"
      },
      "execution_count": 96,
      "outputs": [
        {
          "output_type": "stream",
          "name": "stdout",
          "text": [
            "Top 10 cities with the highest average rental prices:\n",
            "cityname\n",
            "Barstow         52500.000000\n",
            "Montecito       16100.000000\n",
            "Key Biscayne     9500.000000\n",
            "Menlo Park       8200.000000\n",
            "Hollywood        7283.500000\n",
            "Centerville      7000.000000\n",
            "Kailua           6716.666667\n",
            "Brookline        6300.000000\n",
            "Potomac          5900.000000\n",
            "Coronado         5512.500000\n",
            "Name: price, dtype: float64\n",
            "\n",
            "Top 10 cities with the lowest average rental prices:\n",
            "cityname\n",
            "Mount Airy       200.0\n",
            "Lakeland         275.0\n",
            "Michigan City    288.0\n",
            "Central City     350.0\n",
            "Edgerton         386.0\n",
            "Red Oak          395.0\n",
            "Niles            420.0\n",
            "Youngstown       435.0\n",
            "El Dorado        450.0\n",
            "West Fargo       450.0\n",
            "Name: price, dtype: float64\n"
          ]
        }
      ]
    },
    {
      "cell_type": "markdown",
      "source": [
        "This is great insight into the most and least expensive cities to rent in."
      ],
      "metadata": {
        "id": "1FozYs7Fwxgt"
      }
    },
    {
      "cell_type": "markdown",
      "source": [
        " Lets now look at latitude and longitude."
      ],
      "metadata": {
        "id": "o1i1E1Oi8J-b"
      }
    },
    {
      "cell_type": "code",
      "source": [
        "latitude_stats = geo_rent['latitude'].describe()\n",
        "longitude_stats = geo_rent['longitude'].describe()\n",
        "\n",
        "print(\"Latitude Descriptive Statistics:\")\n",
        "print(latitude_stats)\n",
        "\n",
        "print(\"\\nLongitude Descriptive Statistics:\")\n",
        "print(longitude_stats)"
      ],
      "metadata": {
        "colab": {
          "base_uri": "https://localhost:8080/"
        },
        "id": "2Xd24uKexOv_",
        "outputId": "bc8a336c-80ef-400f-aa7e-59684bf772cf"
      },
      "execution_count": 97,
      "outputs": [
        {
          "output_type": "stream",
          "name": "stdout",
          "text": [
            "Latitude Descriptive Statistics:\n",
            "count    9972.000000\n",
            "mean       37.696052\n",
            "std         5.495228\n",
            "min        21.315500\n",
            "25%        33.686525\n",
            "50%        38.809800\n",
            "75%        41.349800\n",
            "max        61.594000\n",
            "Name: latitude, dtype: float64\n",
            "\n",
            "Longitude Descriptive Statistics:\n",
            "count    9972.000000\n",
            "mean      -94.639496\n",
            "std        15.752596\n",
            "min      -158.022100\n",
            "25%      -101.301700\n",
            "50%       -93.651600\n",
            "75%       -82.183200\n",
            "max       -70.191600\n",
            "Name: longitude, dtype: float64\n"
          ]
        }
      ]
    },
    {
      "cell_type": "markdown",
      "source": [
        "Very expected since all listings are from USA. Lets move on to data preperation"
      ],
      "metadata": {
        "id": "UjS_K8mVxWNZ"
      }
    },
    {
      "cell_type": "markdown",
      "source": [
        "### Data Preperation"
      ],
      "metadata": {
        "id": "wYppn0qaxiVp"
      }
    },
    {
      "cell_type": "markdown",
      "source": [
        "#### Dropping Irrelevant Variables"
      ],
      "metadata": {
        "id": "fRGqQlk6x6Re"
      }
    },
    {
      "cell_type": "markdown",
      "source": [
        "In this model I want to make a model based solely off geographical variables and price. To start, we are going to drop every variable that isn't geographical or price."
      ],
      "metadata": {
        "id": "gAup4EHcxrX6"
      }
    },
    {
      "cell_type": "code",
      "source": [
        "# List of columns to drop\n",
        "columns_to_drop = ['Unnamed: 0', 'id', 'category', 'title', 'body', 'amenities', 'bathrooms', 'bedrooms', 'currency', 'fee',\n",
        "                   'has_photo', 'pets_allowed', 'square_feet', 'price_display', 'address', 'source', 'amenities', 'price_type', 'time']\n",
        "\n",
        "# Drop the specified columns\n",
        "geo_rent = geo_rent.drop(columns=columns_to_drop)"
      ],
      "metadata": {
        "id": "ZunOdTgvxnEH"
      },
      "execution_count": 98,
      "outputs": []
    },
    {
      "cell_type": "code",
      "source": [
        "display(geo_rent)"
      ],
      "metadata": {
        "colab": {
          "base_uri": "https://localhost:8080/",
          "height": 424
        },
        "id": "4sVeAluFyfr7",
        "outputId": "483d1289-603f-4079-ffc3-fce55e41f26e"
      },
      "execution_count": 99,
      "outputs": [
        {
          "output_type": "display_data",
          "data": {
            "text/plain": [
              "        price       cityname state  latitude  longitude\n",
              "0       790.0     Washington    DC   38.9057   -76.9861\n",
              "1       425.0     Evansville    IN   37.9680   -87.6621\n",
              "2      1390.0      Arlington    VA   38.8910   -77.0816\n",
              "3       925.0        Seattle    WA   47.6160  -122.3275\n",
              "4       880.0      Arlington    VA   38.8738   -77.1055\n",
              "...       ...            ...   ...       ...        ...\n",
              "9995   6000.0          Edina    MN   44.9000   -93.3233\n",
              "9996  25000.0      Montecito    CA   34.4331  -119.6331\n",
              "9997  11000.0        Potomac    MD   39.0287   -77.2409\n",
              "9998   4790.0       New York    NY   40.7716   -73.9876\n",
              "9999   1009.0  Lawrenceville    GA   34.0072   -84.0034\n",
              "\n",
              "[10000 rows x 5 columns]"
            ],
            "text/html": [
              "\n",
              "  <div id=\"df-4b7cdb52-8230-4e82-9fc8-faca3e6122f3\" class=\"colab-df-container\">\n",
              "    <div>\n",
              "<style scoped>\n",
              "    .dataframe tbody tr th:only-of-type {\n",
              "        vertical-align: middle;\n",
              "    }\n",
              "\n",
              "    .dataframe tbody tr th {\n",
              "        vertical-align: top;\n",
              "    }\n",
              "\n",
              "    .dataframe thead th {\n",
              "        text-align: right;\n",
              "    }\n",
              "</style>\n",
              "<table border=\"1\" class=\"dataframe\">\n",
              "  <thead>\n",
              "    <tr style=\"text-align: right;\">\n",
              "      <th></th>\n",
              "      <th>price</th>\n",
              "      <th>cityname</th>\n",
              "      <th>state</th>\n",
              "      <th>latitude</th>\n",
              "      <th>longitude</th>\n",
              "    </tr>\n",
              "  </thead>\n",
              "  <tbody>\n",
              "    <tr>\n",
              "      <th>0</th>\n",
              "      <td>790.0</td>\n",
              "      <td>Washington</td>\n",
              "      <td>DC</td>\n",
              "      <td>38.9057</td>\n",
              "      <td>-76.9861</td>\n",
              "    </tr>\n",
              "    <tr>\n",
              "      <th>1</th>\n",
              "      <td>425.0</td>\n",
              "      <td>Evansville</td>\n",
              "      <td>IN</td>\n",
              "      <td>37.9680</td>\n",
              "      <td>-87.6621</td>\n",
              "    </tr>\n",
              "    <tr>\n",
              "      <th>2</th>\n",
              "      <td>1390.0</td>\n",
              "      <td>Arlington</td>\n",
              "      <td>VA</td>\n",
              "      <td>38.8910</td>\n",
              "      <td>-77.0816</td>\n",
              "    </tr>\n",
              "    <tr>\n",
              "      <th>3</th>\n",
              "      <td>925.0</td>\n",
              "      <td>Seattle</td>\n",
              "      <td>WA</td>\n",
              "      <td>47.6160</td>\n",
              "      <td>-122.3275</td>\n",
              "    </tr>\n",
              "    <tr>\n",
              "      <th>4</th>\n",
              "      <td>880.0</td>\n",
              "      <td>Arlington</td>\n",
              "      <td>VA</td>\n",
              "      <td>38.8738</td>\n",
              "      <td>-77.1055</td>\n",
              "    </tr>\n",
              "    <tr>\n",
              "      <th>...</th>\n",
              "      <td>...</td>\n",
              "      <td>...</td>\n",
              "      <td>...</td>\n",
              "      <td>...</td>\n",
              "      <td>...</td>\n",
              "    </tr>\n",
              "    <tr>\n",
              "      <th>9995</th>\n",
              "      <td>6000.0</td>\n",
              "      <td>Edina</td>\n",
              "      <td>MN</td>\n",
              "      <td>44.9000</td>\n",
              "      <td>-93.3233</td>\n",
              "    </tr>\n",
              "    <tr>\n",
              "      <th>9996</th>\n",
              "      <td>25000.0</td>\n",
              "      <td>Montecito</td>\n",
              "      <td>CA</td>\n",
              "      <td>34.4331</td>\n",
              "      <td>-119.6331</td>\n",
              "    </tr>\n",
              "    <tr>\n",
              "      <th>9997</th>\n",
              "      <td>11000.0</td>\n",
              "      <td>Potomac</td>\n",
              "      <td>MD</td>\n",
              "      <td>39.0287</td>\n",
              "      <td>-77.2409</td>\n",
              "    </tr>\n",
              "    <tr>\n",
              "      <th>9998</th>\n",
              "      <td>4790.0</td>\n",
              "      <td>New York</td>\n",
              "      <td>NY</td>\n",
              "      <td>40.7716</td>\n",
              "      <td>-73.9876</td>\n",
              "    </tr>\n",
              "    <tr>\n",
              "      <th>9999</th>\n",
              "      <td>1009.0</td>\n",
              "      <td>Lawrenceville</td>\n",
              "      <td>GA</td>\n",
              "      <td>34.0072</td>\n",
              "      <td>-84.0034</td>\n",
              "    </tr>\n",
              "  </tbody>\n",
              "</table>\n",
              "<p>10000 rows × 5 columns</p>\n",
              "</div>\n",
              "    <div class=\"colab-df-buttons\">\n",
              "\n",
              "  <div class=\"colab-df-container\">\n",
              "    <button class=\"colab-df-convert\" onclick=\"convertToInteractive('df-4b7cdb52-8230-4e82-9fc8-faca3e6122f3')\"\n",
              "            title=\"Convert this dataframe to an interactive table.\"\n",
              "            style=\"display:none;\">\n",
              "\n",
              "  <svg xmlns=\"http://www.w3.org/2000/svg\" height=\"24px\" viewBox=\"0 -960 960 960\">\n",
              "    <path d=\"M120-120v-720h720v720H120Zm60-500h600v-160H180v160Zm220 220h160v-160H400v160Zm0 220h160v-160H400v160ZM180-400h160v-160H180v160Zm440 0h160v-160H620v160ZM180-180h160v-160H180v160Zm440 0h160v-160H620v160Z\"/>\n",
              "  </svg>\n",
              "    </button>\n",
              "\n",
              "  <style>\n",
              "    .colab-df-container {\n",
              "      display:flex;\n",
              "      gap: 12px;\n",
              "    }\n",
              "\n",
              "    .colab-df-convert {\n",
              "      background-color: #E8F0FE;\n",
              "      border: none;\n",
              "      border-radius: 50%;\n",
              "      cursor: pointer;\n",
              "      display: none;\n",
              "      fill: #1967D2;\n",
              "      height: 32px;\n",
              "      padding: 0 0 0 0;\n",
              "      width: 32px;\n",
              "    }\n",
              "\n",
              "    .colab-df-convert:hover {\n",
              "      background-color: #E2EBFA;\n",
              "      box-shadow: 0px 1px 2px rgba(60, 64, 67, 0.3), 0px 1px 3px 1px rgba(60, 64, 67, 0.15);\n",
              "      fill: #174EA6;\n",
              "    }\n",
              "\n",
              "    .colab-df-buttons div {\n",
              "      margin-bottom: 4px;\n",
              "    }\n",
              "\n",
              "    [theme=dark] .colab-df-convert {\n",
              "      background-color: #3B4455;\n",
              "      fill: #D2E3FC;\n",
              "    }\n",
              "\n",
              "    [theme=dark] .colab-df-convert:hover {\n",
              "      background-color: #434B5C;\n",
              "      box-shadow: 0px 1px 3px 1px rgba(0, 0, 0, 0.15);\n",
              "      filter: drop-shadow(0px 1px 2px rgba(0, 0, 0, 0.3));\n",
              "      fill: #FFFFFF;\n",
              "    }\n",
              "  </style>\n",
              "\n",
              "    <script>\n",
              "      const buttonEl =\n",
              "        document.querySelector('#df-4b7cdb52-8230-4e82-9fc8-faca3e6122f3 button.colab-df-convert');\n",
              "      buttonEl.style.display =\n",
              "        google.colab.kernel.accessAllowed ? 'block' : 'none';\n",
              "\n",
              "      async function convertToInteractive(key) {\n",
              "        const element = document.querySelector('#df-4b7cdb52-8230-4e82-9fc8-faca3e6122f3');\n",
              "        const dataTable =\n",
              "          await google.colab.kernel.invokeFunction('convertToInteractive',\n",
              "                                                    [key], {});\n",
              "        if (!dataTable) return;\n",
              "\n",
              "        const docLinkHtml = 'Like what you see? Visit the ' +\n",
              "          '<a target=\"_blank\" href=https://colab.research.google.com/notebooks/data_table.ipynb>data table notebook</a>'\n",
              "          + ' to learn more about interactive tables.';\n",
              "        element.innerHTML = '';\n",
              "        dataTable['output_type'] = 'display_data';\n",
              "        await google.colab.output.renderOutput(dataTable, element);\n",
              "        const docLink = document.createElement('div');\n",
              "        docLink.innerHTML = docLinkHtml;\n",
              "        element.appendChild(docLink);\n",
              "      }\n",
              "    </script>\n",
              "  </div>\n",
              "\n",
              "\n",
              "<div id=\"df-b832fc7b-4e26-409b-9f08-af9150827ec2\">\n",
              "  <button class=\"colab-df-quickchart\" onclick=\"quickchart('df-b832fc7b-4e26-409b-9f08-af9150827ec2')\"\n",
              "            title=\"Suggest charts\"\n",
              "            style=\"display:none;\">\n",
              "\n",
              "<svg xmlns=\"http://www.w3.org/2000/svg\" height=\"24px\"viewBox=\"0 0 24 24\"\n",
              "     width=\"24px\">\n",
              "    <g>\n",
              "        <path d=\"M19 3H5c-1.1 0-2 .9-2 2v14c0 1.1.9 2 2 2h14c1.1 0 2-.9 2-2V5c0-1.1-.9-2-2-2zM9 17H7v-7h2v7zm4 0h-2V7h2v10zm4 0h-2v-4h2v4z\"/>\n",
              "    </g>\n",
              "</svg>\n",
              "  </button>\n",
              "\n",
              "<style>\n",
              "  .colab-df-quickchart {\n",
              "      --bg-color: #E8F0FE;\n",
              "      --fill-color: #1967D2;\n",
              "      --hover-bg-color: #E2EBFA;\n",
              "      --hover-fill-color: #174EA6;\n",
              "      --disabled-fill-color: #AAA;\n",
              "      --disabled-bg-color: #DDD;\n",
              "  }\n",
              "\n",
              "  [theme=dark] .colab-df-quickchart {\n",
              "      --bg-color: #3B4455;\n",
              "      --fill-color: #D2E3FC;\n",
              "      --hover-bg-color: #434B5C;\n",
              "      --hover-fill-color: #FFFFFF;\n",
              "      --disabled-bg-color: #3B4455;\n",
              "      --disabled-fill-color: #666;\n",
              "  }\n",
              "\n",
              "  .colab-df-quickchart {\n",
              "    background-color: var(--bg-color);\n",
              "    border: none;\n",
              "    border-radius: 50%;\n",
              "    cursor: pointer;\n",
              "    display: none;\n",
              "    fill: var(--fill-color);\n",
              "    height: 32px;\n",
              "    padding: 0;\n",
              "    width: 32px;\n",
              "  }\n",
              "\n",
              "  .colab-df-quickchart:hover {\n",
              "    background-color: var(--hover-bg-color);\n",
              "    box-shadow: 0 1px 2px rgba(60, 64, 67, 0.3), 0 1px 3px 1px rgba(60, 64, 67, 0.15);\n",
              "    fill: var(--button-hover-fill-color);\n",
              "  }\n",
              "\n",
              "  .colab-df-quickchart-complete:disabled,\n",
              "  .colab-df-quickchart-complete:disabled:hover {\n",
              "    background-color: var(--disabled-bg-color);\n",
              "    fill: var(--disabled-fill-color);\n",
              "    box-shadow: none;\n",
              "  }\n",
              "\n",
              "  .colab-df-spinner {\n",
              "    border: 2px solid var(--fill-color);\n",
              "    border-color: transparent;\n",
              "    border-bottom-color: var(--fill-color);\n",
              "    animation:\n",
              "      spin 1s steps(1) infinite;\n",
              "  }\n",
              "\n",
              "  @keyframes spin {\n",
              "    0% {\n",
              "      border-color: transparent;\n",
              "      border-bottom-color: var(--fill-color);\n",
              "      border-left-color: var(--fill-color);\n",
              "    }\n",
              "    20% {\n",
              "      border-color: transparent;\n",
              "      border-left-color: var(--fill-color);\n",
              "      border-top-color: var(--fill-color);\n",
              "    }\n",
              "    30% {\n",
              "      border-color: transparent;\n",
              "      border-left-color: var(--fill-color);\n",
              "      border-top-color: var(--fill-color);\n",
              "      border-right-color: var(--fill-color);\n",
              "    }\n",
              "    40% {\n",
              "      border-color: transparent;\n",
              "      border-right-color: var(--fill-color);\n",
              "      border-top-color: var(--fill-color);\n",
              "    }\n",
              "    60% {\n",
              "      border-color: transparent;\n",
              "      border-right-color: var(--fill-color);\n",
              "    }\n",
              "    80% {\n",
              "      border-color: transparent;\n",
              "      border-right-color: var(--fill-color);\n",
              "      border-bottom-color: var(--fill-color);\n",
              "    }\n",
              "    90% {\n",
              "      border-color: transparent;\n",
              "      border-bottom-color: var(--fill-color);\n",
              "    }\n",
              "  }\n",
              "</style>\n",
              "\n",
              "  <script>\n",
              "    async function quickchart(key) {\n",
              "      const quickchartButtonEl =\n",
              "        document.querySelector('#' + key + ' button');\n",
              "      quickchartButtonEl.disabled = true;  // To prevent multiple clicks.\n",
              "      quickchartButtonEl.classList.add('colab-df-spinner');\n",
              "      try {\n",
              "        const charts = await google.colab.kernel.invokeFunction(\n",
              "            'suggestCharts', [key], {});\n",
              "      } catch (error) {\n",
              "        console.error('Error during call to suggestCharts:', error);\n",
              "      }\n",
              "      quickchartButtonEl.classList.remove('colab-df-spinner');\n",
              "      quickchartButtonEl.classList.add('colab-df-quickchart-complete');\n",
              "    }\n",
              "    (() => {\n",
              "      let quickchartButtonEl =\n",
              "        document.querySelector('#df-b832fc7b-4e26-409b-9f08-af9150827ec2 button');\n",
              "      quickchartButtonEl.style.display =\n",
              "        google.colab.kernel.accessAllowed ? 'block' : 'none';\n",
              "    })();\n",
              "  </script>\n",
              "</div>\n",
              "\n",
              "  <div id=\"id_db69a046-1a71-4dcf-901f-f12e4cfe8a17\">\n",
              "    <style>\n",
              "      .colab-df-generate {\n",
              "        background-color: #E8F0FE;\n",
              "        border: none;\n",
              "        border-radius: 50%;\n",
              "        cursor: pointer;\n",
              "        display: none;\n",
              "        fill: #1967D2;\n",
              "        height: 32px;\n",
              "        padding: 0 0 0 0;\n",
              "        width: 32px;\n",
              "      }\n",
              "\n",
              "      .colab-df-generate:hover {\n",
              "        background-color: #E2EBFA;\n",
              "        box-shadow: 0px 1px 2px rgba(60, 64, 67, 0.3), 0px 1px 3px 1px rgba(60, 64, 67, 0.15);\n",
              "        fill: #174EA6;\n",
              "      }\n",
              "\n",
              "      [theme=dark] .colab-df-generate {\n",
              "        background-color: #3B4455;\n",
              "        fill: #D2E3FC;\n",
              "      }\n",
              "\n",
              "      [theme=dark] .colab-df-generate:hover {\n",
              "        background-color: #434B5C;\n",
              "        box-shadow: 0px 1px 3px 1px rgba(0, 0, 0, 0.15);\n",
              "        filter: drop-shadow(0px 1px 2px rgba(0, 0, 0, 0.3));\n",
              "        fill: #FFFFFF;\n",
              "      }\n",
              "    </style>\n",
              "    <button class=\"colab-df-generate\" onclick=\"generateWithVariable('geo_rent')\"\n",
              "            title=\"Generate code using this dataframe.\"\n",
              "            style=\"display:none;\">\n",
              "\n",
              "  <svg xmlns=\"http://www.w3.org/2000/svg\" height=\"24px\"viewBox=\"0 0 24 24\"\n",
              "       width=\"24px\">\n",
              "    <path d=\"M7,19H8.4L18.45,9,17,7.55,7,17.6ZM5,21V16.75L18.45,3.32a2,2,0,0,1,2.83,0l1.4,1.43a1.91,1.91,0,0,1,.58,1.4,1.91,1.91,0,0,1-.58,1.4L9.25,21ZM18.45,9,17,7.55Zm-12,3A5.31,5.31,0,0,0,4.9,8.1,5.31,5.31,0,0,0,1,6.5,5.31,5.31,0,0,0,4.9,4.9,5.31,5.31,0,0,0,6.5,1,5.31,5.31,0,0,0,8.1,4.9,5.31,5.31,0,0,0,12,6.5,5.46,5.46,0,0,0,6.5,12Z\"/>\n",
              "  </svg>\n",
              "    </button>\n",
              "    <script>\n",
              "      (() => {\n",
              "      const buttonEl =\n",
              "        document.querySelector('#id_db69a046-1a71-4dcf-901f-f12e4cfe8a17 button.colab-df-generate');\n",
              "      buttonEl.style.display =\n",
              "        google.colab.kernel.accessAllowed ? 'block' : 'none';\n",
              "\n",
              "      buttonEl.onclick = () => {\n",
              "        google.colab.notebook.generateWithVariable('geo_rent');\n",
              "      }\n",
              "      })();\n",
              "    </script>\n",
              "  </div>\n",
              "\n",
              "    </div>\n",
              "  </div>\n"
            ],
            "application/vnd.google.colaboratory.intrinsic+json": {
              "type": "dataframe",
              "variable_name": "geo_rent",
              "summary": "{\n  \"name\": \"geo_rent\",\n  \"rows\": 10000,\n  \"fields\": [\n    {\n      \"column\": \"price\",\n      \"properties\": {\n        \"dtype\": \"number\",\n        \"std\": 1077.5771045335164,\n        \"min\": 200.0,\n        \"max\": 52500.0,\n        \"num_unique_values\": 1721,\n        \"samples\": [\n          1669.0,\n          1749.0,\n          1775.0\n        ],\n        \"semantic_type\": \"\",\n        \"description\": \"\"\n      }\n    },\n    {\n      \"column\": \"cityname\",\n      \"properties\": {\n        \"dtype\": \"category\",\n        \"num_unique_values\": 1574,\n        \"samples\": [\n          \"Fairless Hills\",\n          \"Plainfield\",\n          \"Kirkwood\"\n        ],\n        \"semantic_type\": \"\",\n        \"description\": \"\"\n      }\n    },\n    {\n      \"column\": \"state\",\n      \"properties\": {\n        \"dtype\": \"category\",\n        \"num_unique_values\": 51,\n        \"samples\": [\n          \"HI\",\n          \"AR\",\n          \"SD\"\n        ],\n        \"semantic_type\": \"\",\n        \"description\": \"\"\n      }\n    },\n    {\n      \"column\": \"latitude\",\n      \"properties\": {\n        \"dtype\": \"number\",\n        \"std\": 5.495227611200524,\n        \"min\": 21.3155,\n        \"max\": 61.594,\n        \"num_unique_values\": 2394,\n        \"samples\": [\n          42.7039,\n          39.597,\n          35.6714\n        ],\n        \"semantic_type\": \"\",\n        \"description\": \"\"\n      }\n    },\n    {\n      \"column\": \"longitude\",\n      \"properties\": {\n        \"dtype\": \"number\",\n        \"std\": 15.752596276719794,\n        \"min\": -158.0221,\n        \"max\": -70.1916,\n        \"num_unique_values\": 2391,\n        \"samples\": [\n          -84.4662,\n          -117.4018,\n          -96.8292\n        ],\n        \"semantic_type\": \"\",\n        \"description\": \"\"\n      }\n    }\n  ]\n}"
            }
          },
          "metadata": {}
        }
      ]
    },
    {
      "cell_type": "markdown",
      "source": [
        "#### Handling Missing Values"
      ],
      "metadata": {
        "id": "oFXVhHoly-ux"
      }
    },
    {
      "cell_type": "markdown",
      "source": [
        "To start, lets fix the missing price values the same way we did in the previous model."
      ],
      "metadata": {
        "id": "51kgTrr9zDPQ"
      }
    },
    {
      "cell_type": "code",
      "source": [
        "# Replace dollar sign and comma, then convert to numeric\n",
        "geo_rent['price'] = pd.to_numeric(rental['price_display'].str.replace('[\\$,]', '', regex=True), errors='coerce')"
      ],
      "metadata": {
        "id": "McyLlg0tzCoi"
      },
      "execution_count": 100,
      "outputs": []
    },
    {
      "cell_type": "code",
      "source": [
        "# Drop rows with missing 'price'\n",
        "geo_rent = geo_rent.dropna(subset=['price'])"
      ],
      "metadata": {
        "id": "4sxqkhmjzNLQ"
      },
      "execution_count": 101,
      "outputs": []
    },
    {
      "cell_type": "markdown",
      "source": [
        "Now lets look at how many missing values we have"
      ],
      "metadata": {
        "id": "gFC7R5mqzP2N"
      }
    },
    {
      "cell_type": "code",
      "source": [
        "# Display the count of missing values for each variable in geo_rent\n",
        "missing_values = geo_rent.isnull().sum()\n",
        "\n",
        "# Display the result\n",
        "print(\"Missing Values for Each Variable:\")\n",
        "print(missing_values)"
      ],
      "metadata": {
        "colab": {
          "base_uri": "https://localhost:8080/"
        },
        "id": "6gpR0a0mzSYK",
        "outputId": "2b89a5d3-9a5b-4aa3-c17f-4ec073268064"
      },
      "execution_count": 102,
      "outputs": [
        {
          "output_type": "stream",
          "name": "stdout",
          "text": [
            "Missing Values for Each Variable:\n",
            "price         0\n",
            "cityname     77\n",
            "state        84\n",
            "latitude     28\n",
            "longitude    28\n",
            "dtype: int64\n"
          ]
        }
      ]
    },
    {
      "cell_type": "markdown",
      "source": [
        "I tried getting creative to solve some of the missing values here, but I was having trouble and since the amount missing is so low for our dataset of 10,000, I am simply going to drop them as well."
      ],
      "metadata": {
        "id": "NaZXVgk_zh1_"
      }
    },
    {
      "cell_type": "code",
      "source": [
        "geo_rent = geo_rent.dropna(subset=['cityname'])\n",
        "geo_rent = geo_rent.dropna(subset=['state'])\n",
        "geo_rent = geo_rent.dropna(subset=['latitude'])\n",
        "geo_rent = geo_rent.dropna(subset=['longitude'])"
      ],
      "metadata": {
        "id": "cRc6znGxzvOt"
      },
      "execution_count": 103,
      "outputs": []
    },
    {
      "cell_type": "markdown",
      "source": [
        "Now lets make sure we have no missing data"
      ],
      "metadata": {
        "id": "cmEJCMEfz3b3"
      }
    },
    {
      "cell_type": "code",
      "source": [
        "# Display the count of missing values for each variable in geo_rent\n",
        "missing_values = geo_rent.isnull().sum()\n",
        "\n",
        "# Display the result\n",
        "print(\"Missing Values for Each Variable:\")\n",
        "print(missing_values)"
      ],
      "metadata": {
        "colab": {
          "base_uri": "https://localhost:8080/"
        },
        "id": "Uyh7WTllz5DW",
        "outputId": "452e466d-43be-4044-abbb-53df8e88bb3e"
      },
      "execution_count": 104,
      "outputs": [
        {
          "output_type": "stream",
          "name": "stdout",
          "text": [
            "Missing Values for Each Variable:\n",
            "price        0\n",
            "cityname     0\n",
            "state        0\n",
            "latitude     0\n",
            "longitude    0\n",
            "dtype: int64\n"
          ]
        }
      ]
    },
    {
      "cell_type": "markdown",
      "source": [
        "That's it, now lets move onto feature engineering."
      ],
      "metadata": {
        "id": "2sWhni-nz7TN"
      }
    },
    {
      "cell_type": "markdown",
      "source": [
        "#### Feature Engineering"
      ],
      "metadata": {
        "id": "QV-84uxkz9Sx"
      }
    },
    {
      "cell_type": "code",
      "source": [
        "state_to_region = {\n",
        "    'AL': 'South', 'AK': 'West', 'AZ': 'West', 'AR': 'South', 'CA': 'West',\n",
        "    'CO': 'West', 'CT': 'Northeast', 'DE': 'South', 'FL': 'South', 'GA': 'South',\n",
        "    'HI': 'West', 'ID': 'West', 'IL': 'Midwest', 'IN': 'Midwest', 'IA': 'Midwest',\n",
        "    'KS': 'Midwest', 'KY': 'South', 'LA': 'South', 'ME': 'Northeast', 'MD': 'South',\n",
        "    'MA': 'Northeast', 'MI': 'Midwest', 'MN': 'Midwest', 'MS': 'South', 'MO': 'Midwest',\n",
        "    'MT': 'West', 'NE': 'Midwest', 'NV': 'West', 'NH': 'Northeast', 'NJ': 'Northeast',\n",
        "    'NM': 'West', 'NY': 'Northeast', 'NC': 'South', 'ND': 'Midwest', 'OH': 'Midwest',\n",
        "    'OK': 'South', 'OR': 'West', 'PA': 'Northeast', 'RI': 'Northeast', 'SC': 'South',\n",
        "    'SD': 'Midwest', 'TN': 'South', 'TX': 'South', 'UT': 'West', 'VT': 'Northeast',\n",
        "    'VA': 'South', 'WA': 'West', 'WV': 'South', 'WI': 'Midwest', 'WY': 'West', 'DC': 'South'\n",
        "}\n",
        "\n",
        "# Add a new 'region' column based on the mapping\n",
        "geo_rent['region'] = geo_rent['state'].map(state_to_region)\n",
        "\n",
        "# Display the updated DataFrame\n",
        "display(geo_rent)"
      ],
      "metadata": {
        "colab": {
          "base_uri": "https://localhost:8080/",
          "height": 424
        },
        "id": "64RL7fe8z_jx",
        "outputId": "dda91cf1-9249-47d5-e017-c703657a2f8d"
      },
      "execution_count": 105,
      "outputs": [
        {
          "output_type": "display_data",
          "data": {
            "text/plain": [
              "        price       cityname state  latitude  longitude     region\n",
              "0       790.0     Washington    DC   38.9057   -76.9861      South\n",
              "1       425.0     Evansville    IN   37.9680   -87.6621    Midwest\n",
              "2      1390.0      Arlington    VA   38.8910   -77.0816      South\n",
              "3       925.0        Seattle    WA   47.6160  -122.3275       West\n",
              "4       880.0      Arlington    VA   38.8738   -77.1055      South\n",
              "...       ...            ...   ...       ...        ...        ...\n",
              "9995   6000.0          Edina    MN   44.9000   -93.3233    Midwest\n",
              "9996  25000.0      Montecito    CA   34.4331  -119.6331       West\n",
              "9997  11000.0        Potomac    MD   39.0287   -77.2409      South\n",
              "9998   4790.0       New York    NY   40.7716   -73.9876  Northeast\n",
              "9999   1009.0  Lawrenceville    GA   34.0072   -84.0034      South\n",
              "\n",
              "[9896 rows x 6 columns]"
            ],
            "text/html": [
              "\n",
              "  <div id=\"df-d1b9dca5-061b-4935-9030-5c6995bacb29\" class=\"colab-df-container\">\n",
              "    <div>\n",
              "<style scoped>\n",
              "    .dataframe tbody tr th:only-of-type {\n",
              "        vertical-align: middle;\n",
              "    }\n",
              "\n",
              "    .dataframe tbody tr th {\n",
              "        vertical-align: top;\n",
              "    }\n",
              "\n",
              "    .dataframe thead th {\n",
              "        text-align: right;\n",
              "    }\n",
              "</style>\n",
              "<table border=\"1\" class=\"dataframe\">\n",
              "  <thead>\n",
              "    <tr style=\"text-align: right;\">\n",
              "      <th></th>\n",
              "      <th>price</th>\n",
              "      <th>cityname</th>\n",
              "      <th>state</th>\n",
              "      <th>latitude</th>\n",
              "      <th>longitude</th>\n",
              "      <th>region</th>\n",
              "    </tr>\n",
              "  </thead>\n",
              "  <tbody>\n",
              "    <tr>\n",
              "      <th>0</th>\n",
              "      <td>790.0</td>\n",
              "      <td>Washington</td>\n",
              "      <td>DC</td>\n",
              "      <td>38.9057</td>\n",
              "      <td>-76.9861</td>\n",
              "      <td>South</td>\n",
              "    </tr>\n",
              "    <tr>\n",
              "      <th>1</th>\n",
              "      <td>425.0</td>\n",
              "      <td>Evansville</td>\n",
              "      <td>IN</td>\n",
              "      <td>37.9680</td>\n",
              "      <td>-87.6621</td>\n",
              "      <td>Midwest</td>\n",
              "    </tr>\n",
              "    <tr>\n",
              "      <th>2</th>\n",
              "      <td>1390.0</td>\n",
              "      <td>Arlington</td>\n",
              "      <td>VA</td>\n",
              "      <td>38.8910</td>\n",
              "      <td>-77.0816</td>\n",
              "      <td>South</td>\n",
              "    </tr>\n",
              "    <tr>\n",
              "      <th>3</th>\n",
              "      <td>925.0</td>\n",
              "      <td>Seattle</td>\n",
              "      <td>WA</td>\n",
              "      <td>47.6160</td>\n",
              "      <td>-122.3275</td>\n",
              "      <td>West</td>\n",
              "    </tr>\n",
              "    <tr>\n",
              "      <th>4</th>\n",
              "      <td>880.0</td>\n",
              "      <td>Arlington</td>\n",
              "      <td>VA</td>\n",
              "      <td>38.8738</td>\n",
              "      <td>-77.1055</td>\n",
              "      <td>South</td>\n",
              "    </tr>\n",
              "    <tr>\n",
              "      <th>...</th>\n",
              "      <td>...</td>\n",
              "      <td>...</td>\n",
              "      <td>...</td>\n",
              "      <td>...</td>\n",
              "      <td>...</td>\n",
              "      <td>...</td>\n",
              "    </tr>\n",
              "    <tr>\n",
              "      <th>9995</th>\n",
              "      <td>6000.0</td>\n",
              "      <td>Edina</td>\n",
              "      <td>MN</td>\n",
              "      <td>44.9000</td>\n",
              "      <td>-93.3233</td>\n",
              "      <td>Midwest</td>\n",
              "    </tr>\n",
              "    <tr>\n",
              "      <th>9996</th>\n",
              "      <td>25000.0</td>\n",
              "      <td>Montecito</td>\n",
              "      <td>CA</td>\n",
              "      <td>34.4331</td>\n",
              "      <td>-119.6331</td>\n",
              "      <td>West</td>\n",
              "    </tr>\n",
              "    <tr>\n",
              "      <th>9997</th>\n",
              "      <td>11000.0</td>\n",
              "      <td>Potomac</td>\n",
              "      <td>MD</td>\n",
              "      <td>39.0287</td>\n",
              "      <td>-77.2409</td>\n",
              "      <td>South</td>\n",
              "    </tr>\n",
              "    <tr>\n",
              "      <th>9998</th>\n",
              "      <td>4790.0</td>\n",
              "      <td>New York</td>\n",
              "      <td>NY</td>\n",
              "      <td>40.7716</td>\n",
              "      <td>-73.9876</td>\n",
              "      <td>Northeast</td>\n",
              "    </tr>\n",
              "    <tr>\n",
              "      <th>9999</th>\n",
              "      <td>1009.0</td>\n",
              "      <td>Lawrenceville</td>\n",
              "      <td>GA</td>\n",
              "      <td>34.0072</td>\n",
              "      <td>-84.0034</td>\n",
              "      <td>South</td>\n",
              "    </tr>\n",
              "  </tbody>\n",
              "</table>\n",
              "<p>9896 rows × 6 columns</p>\n",
              "</div>\n",
              "    <div class=\"colab-df-buttons\">\n",
              "\n",
              "  <div class=\"colab-df-container\">\n",
              "    <button class=\"colab-df-convert\" onclick=\"convertToInteractive('df-d1b9dca5-061b-4935-9030-5c6995bacb29')\"\n",
              "            title=\"Convert this dataframe to an interactive table.\"\n",
              "            style=\"display:none;\">\n",
              "\n",
              "  <svg xmlns=\"http://www.w3.org/2000/svg\" height=\"24px\" viewBox=\"0 -960 960 960\">\n",
              "    <path d=\"M120-120v-720h720v720H120Zm60-500h600v-160H180v160Zm220 220h160v-160H400v160Zm0 220h160v-160H400v160ZM180-400h160v-160H180v160Zm440 0h160v-160H620v160ZM180-180h160v-160H180v160Zm440 0h160v-160H620v160Z\"/>\n",
              "  </svg>\n",
              "    </button>\n",
              "\n",
              "  <style>\n",
              "    .colab-df-container {\n",
              "      display:flex;\n",
              "      gap: 12px;\n",
              "    }\n",
              "\n",
              "    .colab-df-convert {\n",
              "      background-color: #E8F0FE;\n",
              "      border: none;\n",
              "      border-radius: 50%;\n",
              "      cursor: pointer;\n",
              "      display: none;\n",
              "      fill: #1967D2;\n",
              "      height: 32px;\n",
              "      padding: 0 0 0 0;\n",
              "      width: 32px;\n",
              "    }\n",
              "\n",
              "    .colab-df-convert:hover {\n",
              "      background-color: #E2EBFA;\n",
              "      box-shadow: 0px 1px 2px rgba(60, 64, 67, 0.3), 0px 1px 3px 1px rgba(60, 64, 67, 0.15);\n",
              "      fill: #174EA6;\n",
              "    }\n",
              "\n",
              "    .colab-df-buttons div {\n",
              "      margin-bottom: 4px;\n",
              "    }\n",
              "\n",
              "    [theme=dark] .colab-df-convert {\n",
              "      background-color: #3B4455;\n",
              "      fill: #D2E3FC;\n",
              "    }\n",
              "\n",
              "    [theme=dark] .colab-df-convert:hover {\n",
              "      background-color: #434B5C;\n",
              "      box-shadow: 0px 1px 3px 1px rgba(0, 0, 0, 0.15);\n",
              "      filter: drop-shadow(0px 1px 2px rgba(0, 0, 0, 0.3));\n",
              "      fill: #FFFFFF;\n",
              "    }\n",
              "  </style>\n",
              "\n",
              "    <script>\n",
              "      const buttonEl =\n",
              "        document.querySelector('#df-d1b9dca5-061b-4935-9030-5c6995bacb29 button.colab-df-convert');\n",
              "      buttonEl.style.display =\n",
              "        google.colab.kernel.accessAllowed ? 'block' : 'none';\n",
              "\n",
              "      async function convertToInteractive(key) {\n",
              "        const element = document.querySelector('#df-d1b9dca5-061b-4935-9030-5c6995bacb29');\n",
              "        const dataTable =\n",
              "          await google.colab.kernel.invokeFunction('convertToInteractive',\n",
              "                                                    [key], {});\n",
              "        if (!dataTable) return;\n",
              "\n",
              "        const docLinkHtml = 'Like what you see? Visit the ' +\n",
              "          '<a target=\"_blank\" href=https://colab.research.google.com/notebooks/data_table.ipynb>data table notebook</a>'\n",
              "          + ' to learn more about interactive tables.';\n",
              "        element.innerHTML = '';\n",
              "        dataTable['output_type'] = 'display_data';\n",
              "        await google.colab.output.renderOutput(dataTable, element);\n",
              "        const docLink = document.createElement('div');\n",
              "        docLink.innerHTML = docLinkHtml;\n",
              "        element.appendChild(docLink);\n",
              "      }\n",
              "    </script>\n",
              "  </div>\n",
              "\n",
              "\n",
              "<div id=\"df-45fd3195-5853-4698-9542-d9183246a4e9\">\n",
              "  <button class=\"colab-df-quickchart\" onclick=\"quickchart('df-45fd3195-5853-4698-9542-d9183246a4e9')\"\n",
              "            title=\"Suggest charts\"\n",
              "            style=\"display:none;\">\n",
              "\n",
              "<svg xmlns=\"http://www.w3.org/2000/svg\" height=\"24px\"viewBox=\"0 0 24 24\"\n",
              "     width=\"24px\">\n",
              "    <g>\n",
              "        <path d=\"M19 3H5c-1.1 0-2 .9-2 2v14c0 1.1.9 2 2 2h14c1.1 0 2-.9 2-2V5c0-1.1-.9-2-2-2zM9 17H7v-7h2v7zm4 0h-2V7h2v10zm4 0h-2v-4h2v4z\"/>\n",
              "    </g>\n",
              "</svg>\n",
              "  </button>\n",
              "\n",
              "<style>\n",
              "  .colab-df-quickchart {\n",
              "      --bg-color: #E8F0FE;\n",
              "      --fill-color: #1967D2;\n",
              "      --hover-bg-color: #E2EBFA;\n",
              "      --hover-fill-color: #174EA6;\n",
              "      --disabled-fill-color: #AAA;\n",
              "      --disabled-bg-color: #DDD;\n",
              "  }\n",
              "\n",
              "  [theme=dark] .colab-df-quickchart {\n",
              "      --bg-color: #3B4455;\n",
              "      --fill-color: #D2E3FC;\n",
              "      --hover-bg-color: #434B5C;\n",
              "      --hover-fill-color: #FFFFFF;\n",
              "      --disabled-bg-color: #3B4455;\n",
              "      --disabled-fill-color: #666;\n",
              "  }\n",
              "\n",
              "  .colab-df-quickchart {\n",
              "    background-color: var(--bg-color);\n",
              "    border: none;\n",
              "    border-radius: 50%;\n",
              "    cursor: pointer;\n",
              "    display: none;\n",
              "    fill: var(--fill-color);\n",
              "    height: 32px;\n",
              "    padding: 0;\n",
              "    width: 32px;\n",
              "  }\n",
              "\n",
              "  .colab-df-quickchart:hover {\n",
              "    background-color: var(--hover-bg-color);\n",
              "    box-shadow: 0 1px 2px rgba(60, 64, 67, 0.3), 0 1px 3px 1px rgba(60, 64, 67, 0.15);\n",
              "    fill: var(--button-hover-fill-color);\n",
              "  }\n",
              "\n",
              "  .colab-df-quickchart-complete:disabled,\n",
              "  .colab-df-quickchart-complete:disabled:hover {\n",
              "    background-color: var(--disabled-bg-color);\n",
              "    fill: var(--disabled-fill-color);\n",
              "    box-shadow: none;\n",
              "  }\n",
              "\n",
              "  .colab-df-spinner {\n",
              "    border: 2px solid var(--fill-color);\n",
              "    border-color: transparent;\n",
              "    border-bottom-color: var(--fill-color);\n",
              "    animation:\n",
              "      spin 1s steps(1) infinite;\n",
              "  }\n",
              "\n",
              "  @keyframes spin {\n",
              "    0% {\n",
              "      border-color: transparent;\n",
              "      border-bottom-color: var(--fill-color);\n",
              "      border-left-color: var(--fill-color);\n",
              "    }\n",
              "    20% {\n",
              "      border-color: transparent;\n",
              "      border-left-color: var(--fill-color);\n",
              "      border-top-color: var(--fill-color);\n",
              "    }\n",
              "    30% {\n",
              "      border-color: transparent;\n",
              "      border-left-color: var(--fill-color);\n",
              "      border-top-color: var(--fill-color);\n",
              "      border-right-color: var(--fill-color);\n",
              "    }\n",
              "    40% {\n",
              "      border-color: transparent;\n",
              "      border-right-color: var(--fill-color);\n",
              "      border-top-color: var(--fill-color);\n",
              "    }\n",
              "    60% {\n",
              "      border-color: transparent;\n",
              "      border-right-color: var(--fill-color);\n",
              "    }\n",
              "    80% {\n",
              "      border-color: transparent;\n",
              "      border-right-color: var(--fill-color);\n",
              "      border-bottom-color: var(--fill-color);\n",
              "    }\n",
              "    90% {\n",
              "      border-color: transparent;\n",
              "      border-bottom-color: var(--fill-color);\n",
              "    }\n",
              "  }\n",
              "</style>\n",
              "\n",
              "  <script>\n",
              "    async function quickchart(key) {\n",
              "      const quickchartButtonEl =\n",
              "        document.querySelector('#' + key + ' button');\n",
              "      quickchartButtonEl.disabled = true;  // To prevent multiple clicks.\n",
              "      quickchartButtonEl.classList.add('colab-df-spinner');\n",
              "      try {\n",
              "        const charts = await google.colab.kernel.invokeFunction(\n",
              "            'suggestCharts', [key], {});\n",
              "      } catch (error) {\n",
              "        console.error('Error during call to suggestCharts:', error);\n",
              "      }\n",
              "      quickchartButtonEl.classList.remove('colab-df-spinner');\n",
              "      quickchartButtonEl.classList.add('colab-df-quickchart-complete');\n",
              "    }\n",
              "    (() => {\n",
              "      let quickchartButtonEl =\n",
              "        document.querySelector('#df-45fd3195-5853-4698-9542-d9183246a4e9 button');\n",
              "      quickchartButtonEl.style.display =\n",
              "        google.colab.kernel.accessAllowed ? 'block' : 'none';\n",
              "    })();\n",
              "  </script>\n",
              "</div>\n",
              "\n",
              "  <div id=\"id_33f7fa0c-b40c-45ac-aa11-7b6cad671dff\">\n",
              "    <style>\n",
              "      .colab-df-generate {\n",
              "        background-color: #E8F0FE;\n",
              "        border: none;\n",
              "        border-radius: 50%;\n",
              "        cursor: pointer;\n",
              "        display: none;\n",
              "        fill: #1967D2;\n",
              "        height: 32px;\n",
              "        padding: 0 0 0 0;\n",
              "        width: 32px;\n",
              "      }\n",
              "\n",
              "      .colab-df-generate:hover {\n",
              "        background-color: #E2EBFA;\n",
              "        box-shadow: 0px 1px 2px rgba(60, 64, 67, 0.3), 0px 1px 3px 1px rgba(60, 64, 67, 0.15);\n",
              "        fill: #174EA6;\n",
              "      }\n",
              "\n",
              "      [theme=dark] .colab-df-generate {\n",
              "        background-color: #3B4455;\n",
              "        fill: #D2E3FC;\n",
              "      }\n",
              "\n",
              "      [theme=dark] .colab-df-generate:hover {\n",
              "        background-color: #434B5C;\n",
              "        box-shadow: 0px 1px 3px 1px rgba(0, 0, 0, 0.15);\n",
              "        filter: drop-shadow(0px 1px 2px rgba(0, 0, 0, 0.3));\n",
              "        fill: #FFFFFF;\n",
              "      }\n",
              "    </style>\n",
              "    <button class=\"colab-df-generate\" onclick=\"generateWithVariable('geo_rent')\"\n",
              "            title=\"Generate code using this dataframe.\"\n",
              "            style=\"display:none;\">\n",
              "\n",
              "  <svg xmlns=\"http://www.w3.org/2000/svg\" height=\"24px\"viewBox=\"0 0 24 24\"\n",
              "       width=\"24px\">\n",
              "    <path d=\"M7,19H8.4L18.45,9,17,7.55,7,17.6ZM5,21V16.75L18.45,3.32a2,2,0,0,1,2.83,0l1.4,1.43a1.91,1.91,0,0,1,.58,1.4,1.91,1.91,0,0,1-.58,1.4L9.25,21ZM18.45,9,17,7.55Zm-12,3A5.31,5.31,0,0,0,4.9,8.1,5.31,5.31,0,0,0,1,6.5,5.31,5.31,0,0,0,4.9,4.9,5.31,5.31,0,0,0,6.5,1,5.31,5.31,0,0,0,8.1,4.9,5.31,5.31,0,0,0,12,6.5,5.46,5.46,0,0,0,6.5,12Z\"/>\n",
              "  </svg>\n",
              "    </button>\n",
              "    <script>\n",
              "      (() => {\n",
              "      const buttonEl =\n",
              "        document.querySelector('#id_33f7fa0c-b40c-45ac-aa11-7b6cad671dff button.colab-df-generate');\n",
              "      buttonEl.style.display =\n",
              "        google.colab.kernel.accessAllowed ? 'block' : 'none';\n",
              "\n",
              "      buttonEl.onclick = () => {\n",
              "        google.colab.notebook.generateWithVariable('geo_rent');\n",
              "      }\n",
              "      })();\n",
              "    </script>\n",
              "  </div>\n",
              "\n",
              "    </div>\n",
              "  </div>\n"
            ],
            "application/vnd.google.colaboratory.intrinsic+json": {
              "type": "dataframe",
              "variable_name": "geo_rent",
              "summary": "{\n  \"name\": \"geo_rent\",\n  \"rows\": 9896,\n  \"fields\": [\n    {\n      \"column\": \"price\",\n      \"properties\": {\n        \"dtype\": \"number\",\n        \"std\": 1076.0160093142144,\n        \"min\": 200.0,\n        \"max\": 52500.0,\n        \"num_unique_values\": 1721,\n        \"samples\": [\n          1897.0,\n          1322.0,\n          1668.0\n        ],\n        \"semantic_type\": \"\",\n        \"description\": \"\"\n      }\n    },\n    {\n      \"column\": \"cityname\",\n      \"properties\": {\n        \"dtype\": \"category\",\n        \"num_unique_values\": 1573,\n        \"samples\": [\n          \"Pensacola\",\n          \"Plainfield\",\n          \"Purvis\"\n        ],\n        \"semantic_type\": \"\",\n        \"description\": \"\"\n      }\n    },\n    {\n      \"column\": \"state\",\n      \"properties\": {\n        \"dtype\": \"category\",\n        \"num_unique_values\": 51,\n        \"samples\": [\n          \"HI\",\n          \"AR\",\n          \"SD\"\n        ],\n        \"semantic_type\": \"\",\n        \"description\": \"\"\n      }\n    },\n    {\n      \"column\": \"latitude\",\n      \"properties\": {\n        \"dtype\": \"number\",\n        \"std\": 5.508757717153922,\n        \"min\": 21.3155,\n        \"max\": 61.594,\n        \"num_unique_values\": 2390,\n        \"samples\": [\n          32.8008,\n          40.7394,\n          34.678\n        ],\n        \"semantic_type\": \"\",\n        \"description\": \"\"\n      }\n    },\n    {\n      \"column\": \"longitude\",\n      \"properties\": {\n        \"dtype\": \"number\",\n        \"std\": 15.801000293210542,\n        \"min\": -158.0221,\n        \"max\": -70.1916,\n        \"num_unique_values\": 2388,\n        \"samples\": [\n          -122.3716,\n          -90.8945,\n          -79.9668\n        ],\n        \"semantic_type\": \"\",\n        \"description\": \"\"\n      }\n    },\n    {\n      \"column\": \"region\",\n      \"properties\": {\n        \"dtype\": \"category\",\n        \"num_unique_values\": 4,\n        \"samples\": [\n          \"Midwest\",\n          \"Northeast\",\n          \"South\"\n        ],\n        \"semantic_type\": \"\",\n        \"description\": \"\"\n      }\n    }\n  ]\n}"
            }
          },
          "metadata": {}
        }
      ]
    },
    {
      "cell_type": "markdown",
      "source": [
        "Lets just check to make sure this mapped them all."
      ],
      "metadata": {
        "id": "aVdiAFmq0nME"
      }
    },
    {
      "cell_type": "code",
      "source": [
        "# Display the count of missing values for each variable in geo_rent\n",
        "missing_values = geo_rent.isnull().sum()\n",
        "\n",
        "# Display the result\n",
        "print(\"Missing Values for Each Variable:\")\n",
        "print(missing_values)"
      ],
      "metadata": {
        "colab": {
          "base_uri": "https://localhost:8080/"
        },
        "id": "SLqgK9WY0o_N",
        "outputId": "d76e39e4-cf76-4d1c-943c-ebf58086051a"
      },
      "execution_count": 106,
      "outputs": [
        {
          "output_type": "stream",
          "name": "stdout",
          "text": [
            "Missing Values for Each Variable:\n",
            "price        0\n",
            "cityname     0\n",
            "state        0\n",
            "latitude     0\n",
            "longitude    0\n",
            "region       0\n",
            "dtype: int64\n"
          ]
        }
      ]
    },
    {
      "cell_type": "markdown",
      "source": [
        "Perfect, I may change the regions if I need to but for now this is okay."
      ],
      "metadata": {
        "id": "gaeE80zK0woH"
      }
    },
    {
      "cell_type": "markdown",
      "source": [
        "### Model Construction"
      ],
      "metadata": {
        "id": "mJoTRiLb04wL"
      }
    },
    {
      "cell_type": "markdown",
      "source": [
        "#### Building the Model"
      ],
      "metadata": {
        "id": "zkHVBLMj06Ma"
      }
    },
    {
      "cell_type": "markdown",
      "source": [
        "I am going to create a k-means clustering based off price, and sort the clusters based on price, then when I map them using latitude and longitude, I can create a map of the most and least expensive places to rent."
      ],
      "metadata": {
        "id": "0TGlWsz65fSo"
      }
    },
    {
      "cell_type": "code",
      "source": [
        "import pandas as pd\n",
        "from sklearn.cluster import KMeans\n",
        "\n",
        "X = geo_rent[['price']]\n",
        "\n",
        "# Choose the number of clusters\n",
        "k_clusters_price = 4  # Adjust the number of clusters as needed\n",
        "\n",
        "# Apply K-Means clustering for price\n",
        "kmeans_price = KMeans(n_clusters=k_clusters_price)\n",
        "geo_rent['price_cluster'] = kmeans_price.fit_predict(X)\n",
        "\n",
        "# Calculate mean price for each cluster\n",
        "cluster_means = geo_rent.groupby('price_cluster')['price'].mean()\n",
        "\n",
        "# Sort clusters based on mean price\n",
        "sorted_clusters = cluster_means.sort_values().index\n",
        "\n",
        "# Create a mapping from original cluster labels to sorted cluster labels\n",
        "cluster_mapping = {cluster: i for i, cluster in enumerate(sorted_clusters)}\n",
        "\n",
        "# Apply the new labels to 'price_cluster'\n",
        "geo_rent['price_cluster_sorted'] = geo_rent['price_cluster'].map(cluster_mapping)"
      ],
      "metadata": {
        "id": "RG8jcUZO4JaF"
      },
      "execution_count": 107,
      "outputs": []
    },
    {
      "cell_type": "markdown",
      "source": [
        "#### Model Description"
      ],
      "metadata": {
        "id": "qzBKeTZR6zUm"
      }
    },
    {
      "cell_type": "code",
      "source": [
        "# Visualize the clusters with switched latitude and longitude\n",
        "plt.figure(figsize=(16, 8))\n",
        "\n",
        "# Scatter plot for price-based clusters with switched latitude and longitude\n",
        "plt.scatter(geo_rent['longitude'], geo_rent['latitude'], c=geo_rent['price_cluster'], cmap='viridis', s=50, alpha=0.5)\n",
        "plt.title('Price-Based Clusters')\n",
        "plt.xlabel('Longitude')\n",
        "plt.ylabel('Latitude')\n",
        "plt.colorbar(label='Cluster')\n",
        "\n",
        "plt.show()"
      ],
      "metadata": {
        "colab": {
          "base_uri": "https://localhost:8080/",
          "height": 718
        },
        "id": "6pZXYeaM63GN",
        "outputId": "5fb356ca-81a8-4a20-f921-5acc3a940740"
      },
      "execution_count": 108,
      "outputs": [
        {
          "output_type": "display_data",
          "data": {
            "text/plain": [
              "<Figure size 1600x800 with 2 Axes>"
            ],
            "image/png": "[encoded data removed]"
          },
          "metadata": {}
        }
      ]
    },
    {
      "cell_type": "markdown",
      "source": [
        "The model above creates a clustering of listings based off price, sorts them, then plots them on a graph based off longitude and latitude. Since we have so many listings, this actually creates a very clear map of the USA, and gives us great insight into the highest and lowest rent locations. It also gives us insight into where most of these rent locations are taking place, and where they are not.\n",
        "\n",
        "You can see that the california coast is a hotspot for high rent listings, with cities like Los Angelos and San Franscisco. You can also see a hot spot around new york, boston, portland, seattle, denver, philadelphia, and orlando. These high traffics areas are often home to the headquarters of worldwide businesses, vastly increasing rent price in a small area."
      ],
      "metadata": {
        "id": "pK4z2MAb623H"
      }
    },
    {
      "cell_type": "markdown",
      "source": [
        "## Amenities based"
      ],
      "metadata": {
        "id": "FTgKxpNcrAGC"
      }
    },
    {
      "cell_type": "markdown",
      "source": [
        "The next model I am going to be doing is that determines how amenities listed affects price."
      ],
      "metadata": {
        "id": "ibaabslMAdnB"
      }
    },
    {
      "cell_type": "markdown",
      "source": [
        "### Exploratory Data Analysis"
      ],
      "metadata": {
        "id": "ZQRtcETFrGam"
      }
    },
    {
      "cell_type": "markdown",
      "source": [
        "#### Descriptive Statistics of date"
      ],
      "metadata": {
        "id": "dS_eaugs718r"
      }
    },
    {
      "cell_type": "markdown",
      "source": [
        "First we need to make another copy of our dataset."
      ],
      "metadata": {
        "id": "WPrAog-D8M7x"
      }
    },
    {
      "cell_type": "code",
      "source": [
        "am_rent = rental.copy()"
      ],
      "metadata": {
        "id": "lsAhDZK58MlJ"
      },
      "execution_count": 109,
      "outputs": []
    },
    {
      "cell_type": "markdown",
      "source": [
        "Now we can look at statistics"
      ],
      "metadata": {
        "id": "sWGioyNjAygM"
      }
    },
    {
      "cell_type": "code",
      "source": [
        "# Perform descriptive statistics on the 'amenities' variable\n",
        "amenities_stats = am_rent['amenities'].value_counts()\n",
        "\n",
        "# Display the descriptive statistics\n",
        "print(amenities_stats)"
      ],
      "metadata": {
        "colab": {
          "base_uri": "https://localhost:8080/"
        },
        "id": "QiPuuukkAx44",
        "outputId": "628784c3-18eb-485d-a0cc-ede8a5f83ed3"
      },
      "execution_count": 110,
      "outputs": [
        {
          "output_type": "stream",
          "name": "stdout",
          "text": [
            "amenities\n",
            "Parking                                                                                                                                 229\n",
            "Dishwasher,Refrigerator                                                                                                                 225\n",
            "Pool                                                                                                                                    171\n",
            "Dishwasher,Parking,Pool                                                                                                                 149\n",
            "Dishwasher                                                                                                                              147\n",
            "                                                                                                                                       ... \n",
            "Cable or Satellite,Clubhouse,Dishwasher,Hot Tub,Internet Access,Parking,Patio/Deck,Pool,Refrigerator                                      1\n",
            "Cable or Satellite,Internet Access,Parking,Wood Floors                                                                                    1\n",
            "Cable or Satellite,Clubhouse,Dishwasher,Fireplace,Garbage Disposal,Hot Tub,Internet Access,Parking,Playground,Pool,Refrigerator,View      1\n",
            "Garbage Disposal,Gated,Refrigerator                                                                                                       1\n",
            "Basketball,Cable or Satellite,Doorman,Hot Tub,Internet Access,Parking,Playground,Pool,Storage,Washer Dryer                                1\n",
            "Name: count, Length: 2254, dtype: int64\n"
          ]
        }
      ]
    },
    {
      "cell_type": "markdown",
      "source": [
        "We can see that parking is the most listed, with dishwasher and pool being the second most. We will split all amenities up into different variables in feature engineering."
      ],
      "metadata": {
        "id": "5sd3riEFA0l-"
      }
    },
    {
      "cell_type": "markdown",
      "source": [
        "### Data Preperation"
      ],
      "metadata": {
        "id": "gANOXbN59CxV"
      }
    },
    {
      "cell_type": "markdown",
      "source": [
        "#### Dropping Irrelevant Variables"
      ],
      "metadata": {
        "id": "S7gK8fkw9HwQ"
      }
    },
    {
      "cell_type": "markdown",
      "source": [
        "Since we are going to be doing a very basic model, simply seeing how amenities affects the price, we will drop everything besides price and amenities."
      ],
      "metadata": {
        "id": "0DoRbkrr9J8k"
      }
    },
    {
      "cell_type": "code",
      "source": [
        "# List of columns to drop\n",
        "columns_to_drop = ['Unnamed: 0', 'id', 'category', 'title', 'body', 'bathrooms', 'bedrooms', 'currency', 'fee',\n",
        "                   'has_photo', 'pets_allowed', 'square_feet', 'price_display', 'address', 'source', 'price_type', 'cityname', 'state', 'latitude', 'longitude', 'time']\n",
        "\n",
        "# Drop the specified columns\n",
        "am_rent = am_rent.drop(columns=columns_to_drop)"
      ],
      "metadata": {
        "id": "vDLTUcPd81_L"
      },
      "execution_count": 111,
      "outputs": []
    },
    {
      "cell_type": "code",
      "source": [
        "display(am_rent)"
      ],
      "metadata": {
        "colab": {
          "base_uri": "https://localhost:8080/",
          "height": 424
        },
        "id": "EV-1QnD19i5g",
        "outputId": "30194dfa-d42a-4ef5-a08d-e26259318f4f"
      },
      "execution_count": 112,
      "outputs": [
        {
          "output_type": "display_data",
          "data": {
            "text/plain": [
              "                                              amenities    price\n",
              "0                                                   NaN    790.0\n",
              "1                                                   NaN    425.0\n",
              "2                                                   NaN   1390.0\n",
              "3                                                   NaN    925.0\n",
              "4                                                   NaN    880.0\n",
              "...                                                 ...      ...\n",
              "9995                                                NaN   6000.0\n",
              "9996                                                NaN  25000.0\n",
              "9997                                                NaN  11000.0\n",
              "9998  Basketball,Cable or Satellite,Doorman,Hot Tub,...   4790.0\n",
              "9999                                     Gym,Patio/Deck   1009.0\n",
              "\n",
              "[10000 rows x 2 columns]"
            ],
            "text/html": [
              "\n",
              "  <div id=\"df-b0aacbd6-e3be-4451-9b6a-bd7a441a2b6a\" class=\"colab-df-container\">\n",
              "    <div>\n",
              "<style scoped>\n",
              "    .dataframe tbody tr th:only-of-type {\n",
              "        vertical-align: middle;\n",
              "    }\n",
              "\n",
              "    .dataframe tbody tr th {\n",
              "        vertical-align: top;\n",
              "    }\n",
              "\n",
              "    .dataframe thead th {\n",
              "        text-align: right;\n",
              "    }\n",
              "</style>\n",
              "<table border=\"1\" class=\"dataframe\">\n",
              "  <thead>\n",
              "    <tr style=\"text-align: right;\">\n",
              "      <th></th>\n",
              "      <th>amenities</th>\n",
              "      <th>price</th>\n",
              "    </tr>\n",
              "  </thead>\n",
              "  <tbody>\n",
              "    <tr>\n",
              "      <th>0</th>\n",
              "      <td>NaN</td>\n",
              "      <td>790.0</td>\n",
              "    </tr>\n",
              "    <tr>\n",
              "      <th>1</th>\n",
              "      <td>NaN</td>\n",
              "      <td>425.0</td>\n",
              "    </tr>\n",
              "    <tr>\n",
              "      <th>2</th>\n",
              "      <td>NaN</td>\n",
              "      <td>1390.0</td>\n",
              "    </tr>\n",
              "    <tr>\n",
              "      <th>3</th>\n",
              "      <td>NaN</td>\n",
              "      <td>925.0</td>\n",
              "    </tr>\n",
              "    <tr>\n",
              "      <th>4</th>\n",
              "      <td>NaN</td>\n",
              "      <td>880.0</td>\n",
              "    </tr>\n",
              "    <tr>\n",
              "      <th>...</th>\n",
              "      <td>...</td>\n",
              "      <td>...</td>\n",
              "    </tr>\n",
              "    <tr>\n",
              "      <th>9995</th>\n",
              "      <td>NaN</td>\n",
              "      <td>6000.0</td>\n",
              "    </tr>\n",
              "    <tr>\n",
              "      <th>9996</th>\n",
              "      <td>NaN</td>\n",
              "      <td>25000.0</td>\n",
              "    </tr>\n",
              "    <tr>\n",
              "      <th>9997</th>\n",
              "      <td>NaN</td>\n",
              "      <td>11000.0</td>\n",
              "    </tr>\n",
              "    <tr>\n",
              "      <th>9998</th>\n",
              "      <td>Basketball,Cable or Satellite,Doorman,Hot Tub,...</td>\n",
              "      <td>4790.0</td>\n",
              "    </tr>\n",
              "    <tr>\n",
              "      <th>9999</th>\n",
              "      <td>Gym,Patio/Deck</td>\n",
              "      <td>1009.0</td>\n",
              "    </tr>\n",
              "  </tbody>\n",
              "</table>\n",
              "<p>10000 rows × 2 columns</p>\n",
              "</div>\n",
              "    <div class=\"colab-df-buttons\">\n",
              "\n",
              "  <div class=\"colab-df-container\">\n",
              "    <button class=\"colab-df-convert\" onclick=\"convertToInteractive('df-b0aacbd6-e3be-4451-9b6a-bd7a441a2b6a')\"\n",
              "            title=\"Convert this dataframe to an interactive table.\"\n",
              "            style=\"display:none;\">\n",
              "\n",
              "  <svg xmlns=\"http://www.w3.org/2000/svg\" height=\"24px\" viewBox=\"0 -960 960 960\">\n",
              "    <path d=\"M120-120v-720h720v720H120Zm60-500h600v-160H180v160Zm220 220h160v-160H400v160Zm0 220h160v-160H400v160ZM180-400h160v-160H180v160Zm440 0h160v-160H620v160ZM180-180h160v-160H180v160Zm440 0h160v-160H620v160Z\"/>\n",
              "  </svg>\n",
              "    </button>\n",
              "\n",
              "  <style>\n",
              "    .colab-df-container {\n",
              "      display:flex;\n",
              "      gap: 12px;\n",
              "    }\n",
              "\n",
              "    .colab-df-convert {\n",
              "      background-color: #E8F0FE;\n",
              "      border: none;\n",
              "      border-radius: 50%;\n",
              "      cursor: pointer;\n",
              "      display: none;\n",
              "      fill: #1967D2;\n",
              "      height: 32px;\n",
              "      padding: 0 0 0 0;\n",
              "      width: 32px;\n",
              "    }\n",
              "\n",
              "    .colab-df-convert:hover {\n",
              "      background-color: #E2EBFA;\n",
              "      box-shadow: 0px 1px 2px rgba(60, 64, 67, 0.3), 0px 1px 3px 1px rgba(60, 64, 67, 0.15);\n",
              "      fill: #174EA6;\n",
              "    }\n",
              "\n",
              "    .colab-df-buttons div {\n",
              "      margin-bottom: 4px;\n",
              "    }\n",
              "\n",
              "    [theme=dark] .colab-df-convert {\n",
              "      background-color: #3B4455;\n",
              "      fill: #D2E3FC;\n",
              "    }\n",
              "\n",
              "    [theme=dark] .colab-df-convert:hover {\n",
              "      background-color: #434B5C;\n",
              "      box-shadow: 0px 1px 3px 1px rgba(0, 0, 0, 0.15);\n",
              "      filter: drop-shadow(0px 1px 2px rgba(0, 0, 0, 0.3));\n",
              "      fill: #FFFFFF;\n",
              "    }\n",
              "  </style>\n",
              "\n",
              "    <script>\n",
              "      const buttonEl =\n",
              "        document.querySelector('#df-b0aacbd6-e3be-4451-9b6a-bd7a441a2b6a button.colab-df-convert');\n",
              "      buttonEl.style.display =\n",
              "        google.colab.kernel.accessAllowed ? 'block' : 'none';\n",
              "\n",
              "      async function convertToInteractive(key) {\n",
              "        const element = document.querySelector('#df-b0aacbd6-e3be-4451-9b6a-bd7a441a2b6a');\n",
              "        const dataTable =\n",
              "          await google.colab.kernel.invokeFunction('convertToInteractive',\n",
              "                                                    [key], {});\n",
              "        if (!dataTable) return;\n",
              "\n",
              "        const docLinkHtml = 'Like what you see? Visit the ' +\n",
              "          '<a target=\"_blank\" href=https://colab.research.google.com/notebooks/data_table.ipynb>data table notebook</a>'\n",
              "          + ' to learn more about interactive tables.';\n",
              "        element.innerHTML = '';\n",
              "        dataTable['output_type'] = 'display_data';\n",
              "        await google.colab.output.renderOutput(dataTable, element);\n",
              "        const docLink = document.createElement('div');\n",
              "        docLink.innerHTML = docLinkHtml;\n",
              "        element.appendChild(docLink);\n",
              "      }\n",
              "    </script>\n",
              "  </div>\n",
              "\n",
              "\n",
              "<div id=\"df-50a65c10-7197-4b32-87a2-ef04b926a0f2\">\n",
              "  <button class=\"colab-df-quickchart\" onclick=\"quickchart('df-50a65c10-7197-4b32-87a2-ef04b926a0f2')\"\n",
              "            title=\"Suggest charts\"\n",
              "            style=\"display:none;\">\n",
              "\n",
              "<svg xmlns=\"http://www.w3.org/2000/svg\" height=\"24px\"viewBox=\"0 0 24 24\"\n",
              "     width=\"24px\">\n",
              "    <g>\n",
              "        <path d=\"M19 3H5c-1.1 0-2 .9-2 2v14c0 1.1.9 2 2 2h14c1.1 0 2-.9 2-2V5c0-1.1-.9-2-2-2zM9 17H7v-7h2v7zm4 0h-2V7h2v10zm4 0h-2v-4h2v4z\"/>\n",
              "    </g>\n",
              "</svg>\n",
              "  </button>\n",
              "\n",
              "<style>\n",
              "  .colab-df-quickchart {\n",
              "      --bg-color: #E8F0FE;\n",
              "      --fill-color: #1967D2;\n",
              "      --hover-bg-color: #E2EBFA;\n",
              "      --hover-fill-color: #174EA6;\n",
              "      --disabled-fill-color: #AAA;\n",
              "      --disabled-bg-color: #DDD;\n",
              "  }\n",
              "\n",
              "  [theme=dark] .colab-df-quickchart {\n",
              "      --bg-color: #3B4455;\n",
              "      --fill-color: #D2E3FC;\n",
              "      --hover-bg-color: #434B5C;\n",
              "      --hover-fill-color: #FFFFFF;\n",
              "      --disabled-bg-color: #3B4455;\n",
              "      --disabled-fill-color: #666;\n",
              "  }\n",
              "\n",
              "  .colab-df-quickchart {\n",
              "    background-color: var(--bg-color);\n",
              "    border: none;\n",
              "    border-radius: 50%;\n",
              "    cursor: pointer;\n",
              "    display: none;\n",
              "    fill: var(--fill-color);\n",
              "    height: 32px;\n",
              "    padding: 0;\n",
              "    width: 32px;\n",
              "  }\n",
              "\n",
              "  .colab-df-quickchart:hover {\n",
              "    background-color: var(--hover-bg-color);\n",
              "    box-shadow: 0 1px 2px rgba(60, 64, 67, 0.3), 0 1px 3px 1px rgba(60, 64, 67, 0.15);\n",
              "    fill: var(--button-hover-fill-color);\n",
              "  }\n",
              "\n",
              "  .colab-df-quickchart-complete:disabled,\n",
              "  .colab-df-quickchart-complete:disabled:hover {\n",
              "    background-color: var(--disabled-bg-color);\n",
              "    fill: var(--disabled-fill-color);\n",
              "    box-shadow: none;\n",
              "  }\n",
              "\n",
              "  .colab-df-spinner {\n",
              "    border: 2px solid var(--fill-color);\n",
              "    border-color: transparent;\n",
              "    border-bottom-color: var(--fill-color);\n",
              "    animation:\n",
              "      spin 1s steps(1) infinite;\n",
              "  }\n",
              "\n",
              "  @keyframes spin {\n",
              "    0% {\n",
              "      border-color: transparent;\n",
              "      border-bottom-color: var(--fill-color);\n",
              "      border-left-color: var(--fill-color);\n",
              "    }\n",
              "    20% {\n",
              "      border-color: transparent;\n",
              "      border-left-color: var(--fill-color);\n",
              "      border-top-color: var(--fill-color);\n",
              "    }\n",
              "    30% {\n",
              "      border-color: transparent;\n",
              "      border-left-color: var(--fill-color);\n",
              "      border-top-color: var(--fill-color);\n",
              "      border-right-color: var(--fill-color);\n",
              "    }\n",
              "    40% {\n",
              "      border-color: transparent;\n",
              "      border-right-color: var(--fill-color);\n",
              "      border-top-color: var(--fill-color);\n",
              "    }\n",
              "    60% {\n",
              "      border-color: transparent;\n",
              "      border-right-color: var(--fill-color);\n",
              "    }\n",
              "    80% {\n",
              "      border-color: transparent;\n",
              "      border-right-color: var(--fill-color);\n",
              "      border-bottom-color: var(--fill-color);\n",
              "    }\n",
              "    90% {\n",
              "      border-color: transparent;\n",
              "      border-bottom-color: var(--fill-color);\n",
              "    }\n",
              "  }\n",
              "</style>\n",
              "\n",
              "  <script>\n",
              "    async function quickchart(key) {\n",
              "      const quickchartButtonEl =\n",
              "        document.querySelector('#' + key + ' button');\n",
              "      quickchartButtonEl.disabled = true;  // To prevent multiple clicks.\n",
              "      quickchartButtonEl.classList.add('colab-df-spinner');\n",
              "      try {\n",
              "        const charts = await google.colab.kernel.invokeFunction(\n",
              "            'suggestCharts', [key], {});\n",
              "      } catch (error) {\n",
              "        console.error('Error during call to suggestCharts:', error);\n",
              "      }\n",
              "      quickchartButtonEl.classList.remove('colab-df-spinner');\n",
              "      quickchartButtonEl.classList.add('colab-df-quickchart-complete');\n",
              "    }\n",
              "    (() => {\n",
              "      let quickchartButtonEl =\n",
              "        document.querySelector('#df-50a65c10-7197-4b32-87a2-ef04b926a0f2 button');\n",
              "      quickchartButtonEl.style.display =\n",
              "        google.colab.kernel.accessAllowed ? 'block' : 'none';\n",
              "    })();\n",
              "  </script>\n",
              "</div>\n",
              "\n",
              "  <div id=\"id_2fed336d-45f3-4978-8dc5-a756266fcdf8\">\n",
              "    <style>\n",
              "      .colab-df-generate {\n",
              "        background-color: #E8F0FE;\n",
              "        border: none;\n",
              "        border-radius: 50%;\n",
              "        cursor: pointer;\n",
              "        display: none;\n",
              "        fill: #1967D2;\n",
              "        height: 32px;\n",
              "        padding: 0 0 0 0;\n",
              "        width: 32px;\n",
              "      }\n",
              "\n",
              "      .colab-df-generate:hover {\n",
              "        background-color: #E2EBFA;\n",
              "        box-shadow: 0px 1px 2px rgba(60, 64, 67, 0.3), 0px 1px 3px 1px rgba(60, 64, 67, 0.15);\n",
              "        fill: #174EA6;\n",
              "      }\n",
              "\n",
              "      [theme=dark] .colab-df-generate {\n",
              "        background-color: #3B4455;\n",
              "        fill: #D2E3FC;\n",
              "      }\n",
              "\n",
              "      [theme=dark] .colab-df-generate:hover {\n",
              "        background-color: #434B5C;\n",
              "        box-shadow: 0px 1px 3px 1px rgba(0, 0, 0, 0.15);\n",
              "        filter: drop-shadow(0px 1px 2px rgba(0, 0, 0, 0.3));\n",
              "        fill: #FFFFFF;\n",
              "      }\n",
              "    </style>\n",
              "    <button class=\"colab-df-generate\" onclick=\"generateWithVariable('am_rent')\"\n",
              "            title=\"Generate code using this dataframe.\"\n",
              "            style=\"display:none;\">\n",
              "\n",
              "  <svg xmlns=\"http://www.w3.org/2000/svg\" height=\"24px\"viewBox=\"0 0 24 24\"\n",
              "       width=\"24px\">\n",
              "    <path d=\"M7,19H8.4L18.45,9,17,7.55,7,17.6ZM5,21V16.75L18.45,3.32a2,2,0,0,1,2.83,0l1.4,1.43a1.91,1.91,0,0,1,.58,1.4,1.91,1.91,0,0,1-.58,1.4L9.25,21ZM18.45,9,17,7.55Zm-12,3A5.31,5.31,0,0,0,4.9,8.1,5.31,5.31,0,0,0,1,6.5,5.31,5.31,0,0,0,4.9,4.9,5.31,5.31,0,0,0,6.5,1,5.31,5.31,0,0,0,8.1,4.9,5.31,5.31,0,0,0,12,6.5,5.46,5.46,0,0,0,6.5,12Z\"/>\n",
              "  </svg>\n",
              "    </button>\n",
              "    <script>\n",
              "      (() => {\n",
              "      const buttonEl =\n",
              "        document.querySelector('#id_2fed336d-45f3-4978-8dc5-a756266fcdf8 button.colab-df-generate');\n",
              "      buttonEl.style.display =\n",
              "        google.colab.kernel.accessAllowed ? 'block' : 'none';\n",
              "\n",
              "      buttonEl.onclick = () => {\n",
              "        google.colab.notebook.generateWithVariable('am_rent');\n",
              "      }\n",
              "      })();\n",
              "    </script>\n",
              "  </div>\n",
              "\n",
              "    </div>\n",
              "  </div>\n"
            ],
            "application/vnd.google.colaboratory.intrinsic+json": {
              "type": "dataframe",
              "variable_name": "am_rent",
              "summary": "{\n  \"name\": \"am_rent\",\n  \"rows\": 10000,\n  \"fields\": [\n    {\n      \"column\": \"amenities\",\n      \"properties\": {\n        \"dtype\": \"category\",\n        \"num_unique_values\": 2254,\n        \"samples\": [\n          \"Clubhouse,Garbage Disposal,Gym,Internet Access,Pool,Washer Dryer\",\n          \"Basketball,Gym,Parking\",\n          \"Clubhouse,Dishwasher,Garbage Disposal,Patio/Deck,Playground,Pool,Refrigerator,Tennis\"\n        ],\n        \"semantic_type\": \"\",\n        \"description\": \"\"\n      }\n    },\n    {\n      \"column\": \"price\",\n      \"properties\": {\n        \"dtype\": \"number\",\n        \"std\": 1077.5771045335164,\n        \"min\": 200.0,\n        \"max\": 52500.0,\n        \"num_unique_values\": 1721,\n        \"samples\": [\n          1669.0,\n          1749.0,\n          1775.0\n        ],\n        \"semantic_type\": \"\",\n        \"description\": \"\"\n      }\n    }\n  ]\n}"
            }
          },
          "metadata": {}
        }
      ]
    },
    {
      "cell_type": "markdown",
      "source": [
        "#### Handling Missing Values"
      ],
      "metadata": {
        "id": "UA-8En619r0f"
      }
    },
    {
      "cell_type": "markdown",
      "source": [
        "To start, lets fix the missing price values the same way we did in the previous models."
      ],
      "metadata": {
        "id": "J4ld7pHl9zuU"
      }
    },
    {
      "cell_type": "code",
      "source": [
        "# Replace dollar sign and comma, then convert to numeric\n",
        "am_rent['price'] = pd.to_numeric(rental['price_display'].str.replace('[\\$,]', '', regex=True), errors='coerce')"
      ],
      "metadata": {
        "id": "AZpYbi1W919W"
      },
      "execution_count": 113,
      "outputs": []
    },
    {
      "cell_type": "code",
      "source": [
        "# Drop rows with missing 'price'\n",
        "am_rent = am_rent.dropna(subset=['price'])"
      ],
      "metadata": {
        "id": "rzEQQPE9957T"
      },
      "execution_count": 114,
      "outputs": []
    },
    {
      "cell_type": "code",
      "source": [
        "# Display the count of missing values for each variable in am_rent\n",
        "missing_values = am_rent.isnull().sum()\n",
        "\n",
        "# Display the result\n",
        "print(\"Missing Values for Each Variable:\")\n",
        "print(missing_values)"
      ],
      "metadata": {
        "colab": {
          "base_uri": "https://localhost:8080/"
        },
        "id": "-YGsmhvc9vBP",
        "outputId": "c33caedc-10b2-4046-cdac-926dc16df178"
      },
      "execution_count": 115,
      "outputs": [
        {
          "output_type": "stream",
          "name": "stdout",
          "text": [
            "Missing Values for Each Variable:\n",
            "amenities    3549\n",
            "price           0\n",
            "dtype: int64\n"
          ]
        }
      ]
    },
    {
      "cell_type": "markdown",
      "source": [
        "We have a lot of missing values for amenities, but this is no problem as we will fix this in feature engineering."
      ],
      "metadata": {
        "id": "1cI8pysoBQeV"
      }
    },
    {
      "cell_type": "markdown",
      "source": [
        "#### Feature Engineering"
      ],
      "metadata": {
        "id": "iVO3bLwX9_Q_"
      }
    },
    {
      "cell_type": "markdown",
      "source": [
        "Here we will split all amenities up into different variables, and one hot encode them. If there is a certain amenity, it will be a 1, if there isn't, it will be a 0. If there are no amenities, all variables besides price will be 0."
      ],
      "metadata": {
        "id": "onwQkWRu-G_D"
      }
    },
    {
      "cell_type": "code",
      "source": [
        "# Split the 'amenities' into different variables and one-hot encode them\n",
        "am_rent_amenities = am_rent['amenities'].str.get_dummies(sep=',')\n",
        "\n",
        "# Concatenate the new amenity variables with the original DataFrame\n",
        "am_rent = pd.concat([am_rent, am_rent_amenities], axis=1)\n",
        "\n",
        "# Drop the original 'amenities' column\n",
        "am_rent = am_rent.drop('amenities', axis=1)\n",
        "\n",
        "# Display the DataFrame with new amenity variables\n",
        "display(am_rent)"
      ],
      "metadata": {
        "colab": {
          "base_uri": "https://localhost:8080/",
          "height": 461
        },
        "id": "G58VgwpmBuMB",
        "outputId": "97c61400-a20e-473a-968b-c697fec13198"
      },
      "execution_count": 116,
      "outputs": [
        {
          "output_type": "display_data",
          "data": {
            "text/plain": [
              "        price  AC  Alarm  Basketball  Cable or Satellite  Clubhouse  \\\n",
              "0       790.0   0      0           0                   0          0   \n",
              "1       425.0   0      0           0                   0          0   \n",
              "2      1390.0   0      0           0                   0          0   \n",
              "3       925.0   0      0           0                   0          0   \n",
              "4       880.0   0      0           0                   0          0   \n",
              "...       ...  ..    ...         ...                 ...        ...   \n",
              "9995   6000.0   0      0           0                   0          0   \n",
              "9996  25000.0   0      0           0                   0          0   \n",
              "9997  11000.0   0      0           0                   0          0   \n",
              "9998   4790.0   0      0           1                   1          0   \n",
              "9999   1009.0   0      0           0                   0          0   \n",
              "\n",
              "      Dishwasher  Doorman  Elevator  Fireplace  ...  Patio/Deck  Playground  \\\n",
              "0              0        0         0          0  ...           0           0   \n",
              "1              0        0         0          0  ...           0           0   \n",
              "2              0        0         0          0  ...           0           0   \n",
              "3              0        0         0          0  ...           0           0   \n",
              "4              0        0         0          0  ...           0           0   \n",
              "...          ...      ...       ...        ...  ...         ...         ...   \n",
              "9995           0        0         0          0  ...           0           0   \n",
              "9996           0        0         0          0  ...           0           0   \n",
              "9997           0        0         0          0  ...           0           0   \n",
              "9998           0        1         0          0  ...           0           1   \n",
              "9999           0        0         0          0  ...           1           0   \n",
              "\n",
              "      Pool  Refrigerator  Storage  TV  Tennis  View  Washer Dryer  Wood Floors  \n",
              "0        0             0        0   0       0     0             0            0  \n",
              "1        0             0        0   0       0     0             0            0  \n",
              "2        0             0        0   0       0     0             0            0  \n",
              "3        0             0        0   0       0     0             0            0  \n",
              "4        0             0        0   0       0     0             0            0  \n",
              "...    ...           ...      ...  ..     ...   ...           ...          ...  \n",
              "9995     0             0        0   0       0     0             0            0  \n",
              "9996     0             0        0   0       0     0             0            0  \n",
              "9997     0             0        0   0       0     0             0            0  \n",
              "9998     1             0        1   0       0     0             1            0  \n",
              "9999     0             0        0   0       0     0             0            0  \n",
              "\n",
              "[9998 rows x 28 columns]"
            ],
            "text/html": [
              "\n",
              "  <div id=\"df-b85b31a7-8cfa-4efc-82ea-dc8d7173cf9a\" class=\"colab-df-container\">\n",
              "    <div>\n",
              "<style scoped>\n",
              "    .dataframe tbody tr th:only-of-type {\n",
              "        vertical-align: middle;\n",
              "    }\n",
              "\n",
              "    .dataframe tbody tr th {\n",
              "        vertical-align: top;\n",
              "    }\n",
              "\n",
              "    .dataframe thead th {\n",
              "        text-align: right;\n",
              "    }\n",
              "</style>\n",
              "<table border=\"1\" class=\"dataframe\">\n",
              "  <thead>\n",
              "    <tr style=\"text-align: right;\">\n",
              "      <th></th>\n",
              "      <th>price</th>\n",
              "      <th>AC</th>\n",
              "      <th>Alarm</th>\n",
              "      <th>Basketball</th>\n",
              "      <th>Cable or Satellite</th>\n",
              "      <th>Clubhouse</th>\n",
              "      <th>Dishwasher</th>\n",
              "      <th>Doorman</th>\n",
              "      <th>Elevator</th>\n",
              "      <th>Fireplace</th>\n",
              "      <th>...</th>\n",
              "      <th>Patio/Deck</th>\n",
              "      <th>Playground</th>\n",
              "      <th>Pool</th>\n",
              "      <th>Refrigerator</th>\n",
              "      <th>Storage</th>\n",
              "      <th>TV</th>\n",
              "      <th>Tennis</th>\n",
              "      <th>View</th>\n",
              "      <th>Washer Dryer</th>\n",
              "      <th>Wood Floors</th>\n",
              "    </tr>\n",
              "  </thead>\n",
              "  <tbody>\n",
              "    <tr>\n",
              "      <th>0</th>\n",
              "      <td>790.0</td>\n",
              "      <td>0</td>\n",
              "      <td>0</td>\n",
              "      <td>0</td>\n",
              "      <td>0</td>\n",
              "      <td>0</td>\n",
              "      <td>0</td>\n",
              "      <td>0</td>\n",
              "      <td>0</td>\n",
              "      <td>0</td>\n",
              "      <td>...</td>\n",
              "      <td>0</td>\n",
              "      <td>0</td>\n",
              "      <td>0</td>\n",
              "      <td>0</td>\n",
              "      <td>0</td>\n",
              "      <td>0</td>\n",
              "      <td>0</td>\n",
              "      <td>0</td>\n",
              "      <td>0</td>\n",
              "      <td>0</td>\n",
              "    </tr>\n",
              "    <tr>\n",
              "      <th>1</th>\n",
              "      <td>425.0</td>\n",
              "      <td>0</td>\n",
              "      <td>0</td>\n",
              "      <td>0</td>\n",
              "      <td>0</td>\n",
              "      <td>0</td>\n",
              "      <td>0</td>\n",
              "      <td>0</td>\n",
              "      <td>0</td>\n",
              "      <td>0</td>\n",
              "      <td>...</td>\n",
              "      <td>0</td>\n",
              "      <td>0</td>\n",
              "      <td>0</td>\n",
              "      <td>0</td>\n",
              "      <td>0</td>\n",
              "      <td>0</td>\n",
              "      <td>0</td>\n",
              "      <td>0</td>\n",
              "      <td>0</td>\n",
              "      <td>0</td>\n",
              "    </tr>\n",
              "    <tr>\n",
              "      <th>2</th>\n",
              "      <td>1390.0</td>\n",
              "      <td>0</td>\n",
              "      <td>0</td>\n",
              "      <td>0</td>\n",
              "      <td>0</td>\n",
              "      <td>0</td>\n",
              "      <td>0</td>\n",
              "      <td>0</td>\n",
              "      <td>0</td>\n",
              "      <td>0</td>\n",
              "      <td>...</td>\n",
              "      <td>0</td>\n",
              "      <td>0</td>\n",
              "      <td>0</td>\n",
              "      <td>0</td>\n",
              "      <td>0</td>\n",
              "      <td>0</td>\n",
              "      <td>0</td>\n",
              "      <td>0</td>\n",
              "      <td>0</td>\n",
              "      <td>0</td>\n",
              "    </tr>\n",
              "    <tr>\n",
              "      <th>3</th>\n",
              "      <td>925.0</td>\n",
              "      <td>0</td>\n",
              "      <td>0</td>\n",
              "      <td>0</td>\n",
              "      <td>0</td>\n",
              "      <td>0</td>\n",
              "      <td>0</td>\n",
              "      <td>0</td>\n",
              "      <td>0</td>\n",
              "      <td>0</td>\n",
              "      <td>...</td>\n",
              "      <td>0</td>\n",
              "      <td>0</td>\n",
              "      <td>0</td>\n",
              "      <td>0</td>\n",
              "      <td>0</td>\n",
              "      <td>0</td>\n",
              "      <td>0</td>\n",
              "      <td>0</td>\n",
              "      <td>0</td>\n",
              "      <td>0</td>\n",
              "    </tr>\n",
              "    <tr>\n",
              "      <th>4</th>\n",
              "      <td>880.0</td>\n",
              "      <td>0</td>\n",
              "      <td>0</td>\n",
              "      <td>0</td>\n",
              "      <td>0</td>\n",
              "      <td>0</td>\n",
              "      <td>0</td>\n",
              "      <td>0</td>\n",
              "      <td>0</td>\n",
              "      <td>0</td>\n",
              "      <td>...</td>\n",
              "      <td>0</td>\n",
              "      <td>0</td>\n",
              "      <td>0</td>\n",
              "      <td>0</td>\n",
              "      <td>0</td>\n",
              "      <td>0</td>\n",
              "      <td>0</td>\n",
              "      <td>0</td>\n",
              "      <td>0</td>\n",
              "      <td>0</td>\n",
              "    </tr>\n",
              "    <tr>\n",
              "      <th>...</th>\n",
              "      <td>...</td>\n",
              "      <td>...</td>\n",
              "      <td>...</td>\n",
              "      <td>...</td>\n",
              "      <td>...</td>\n",
              "      <td>...</td>\n",
              "      <td>...</td>\n",
              "      <td>...</td>\n",
              "      <td>...</td>\n",
              "      <td>...</td>\n",
              "      <td>...</td>\n",
              "      <td>...</td>\n",
              "      <td>...</td>\n",
              "      <td>...</td>\n",
              "      <td>...</td>\n",
              "      <td>...</td>\n",
              "      <td>...</td>\n",
              "      <td>...</td>\n",
              "      <td>...</td>\n",
              "      <td>...</td>\n",
              "      <td>...</td>\n",
              "    </tr>\n",
              "    <tr>\n",
              "      <th>9995</th>\n",
              "      <td>6000.0</td>\n",
              "      <td>0</td>\n",
              "      <td>0</td>\n",
              "      <td>0</td>\n",
              "      <td>0</td>\n",
              "      <td>0</td>\n",
              "      <td>0</td>\n",
              "      <td>0</td>\n",
              "      <td>0</td>\n",
              "      <td>0</td>\n",
              "      <td>...</td>\n",
              "      <td>0</td>\n",
              "      <td>0</td>\n",
              "      <td>0</td>\n",
              "      <td>0</td>\n",
              "      <td>0</td>\n",
              "      <td>0</td>\n",
              "      <td>0</td>\n",
              "      <td>0</td>\n",
              "      <td>0</td>\n",
              "      <td>0</td>\n",
              "    </tr>\n",
              "    <tr>\n",
              "      <th>9996</th>\n",
              "      <td>25000.0</td>\n",
              "      <td>0</td>\n",
              "      <td>0</td>\n",
              "      <td>0</td>\n",
              "      <td>0</td>\n",
              "      <td>0</td>\n",
              "      <td>0</td>\n",
              "      <td>0</td>\n",
              "      <td>0</td>\n",
              "      <td>0</td>\n",
              "      <td>...</td>\n",
              "      <td>0</td>\n",
              "      <td>0</td>\n",
              "      <td>0</td>\n",
              "      <td>0</td>\n",
              "      <td>0</td>\n",
              "      <td>0</td>\n",
              "      <td>0</td>\n",
              "      <td>0</td>\n",
              "      <td>0</td>\n",
              "      <td>0</td>\n",
              "    </tr>\n",
              "    <tr>\n",
              "      <th>9997</th>\n",
              "      <td>11000.0</td>\n",
              "      <td>0</td>\n",
              "      <td>0</td>\n",
              "      <td>0</td>\n",
              "      <td>0</td>\n",
              "      <td>0</td>\n",
              "      <td>0</td>\n",
              "      <td>0</td>\n",
              "      <td>0</td>\n",
              "      <td>0</td>\n",
              "      <td>...</td>\n",
              "      <td>0</td>\n",
              "      <td>0</td>\n",
              "      <td>0</td>\n",
              "      <td>0</td>\n",
              "      <td>0</td>\n",
              "      <td>0</td>\n",
              "      <td>0</td>\n",
              "      <td>0</td>\n",
              "      <td>0</td>\n",
              "      <td>0</td>\n",
              "    </tr>\n",
              "    <tr>\n",
              "      <th>9998</th>\n",
              "      <td>4790.0</td>\n",
              "      <td>0</td>\n",
              "      <td>0</td>\n",
              "      <td>1</td>\n",
              "      <td>1</td>\n",
              "      <td>0</td>\n",
              "      <td>0</td>\n",
              "      <td>1</td>\n",
              "      <td>0</td>\n",
              "      <td>0</td>\n",
              "      <td>...</td>\n",
              "      <td>0</td>\n",
              "      <td>1</td>\n",
              "      <td>1</td>\n",
              "      <td>0</td>\n",
              "      <td>1</td>\n",
              "      <td>0</td>\n",
              "      <td>0</td>\n",
              "      <td>0</td>\n",
              "      <td>1</td>\n",
              "      <td>0</td>\n",
              "    </tr>\n",
              "    <tr>\n",
              "      <th>9999</th>\n",
              "      <td>1009.0</td>\n",
              "      <td>0</td>\n",
              "      <td>0</td>\n",
              "      <td>0</td>\n",
              "      <td>0</td>\n",
              "      <td>0</td>\n",
              "      <td>0</td>\n",
              "      <td>0</td>\n",
              "      <td>0</td>\n",
              "      <td>0</td>\n",
              "      <td>...</td>\n",
              "      <td>1</td>\n",
              "      <td>0</td>\n",
              "      <td>0</td>\n",
              "      <td>0</td>\n",
              "      <td>0</td>\n",
              "      <td>0</td>\n",
              "      <td>0</td>\n",
              "      <td>0</td>\n",
              "      <td>0</td>\n",
              "      <td>0</td>\n",
              "    </tr>\n",
              "  </tbody>\n",
              "</table>\n",
              "<p>9998 rows × 28 columns</p>\n",
              "</div>\n",
              "    <div class=\"colab-df-buttons\">\n",
              "\n",
              "  <div class=\"colab-df-container\">\n",
              "    <button class=\"colab-df-convert\" onclick=\"convertToInteractive('df-b85b31a7-8cfa-4efc-82ea-dc8d7173cf9a')\"\n",
              "            title=\"Convert this dataframe to an interactive table.\"\n",
              "            style=\"display:none;\">\n",
              "\n",
              "  <svg xmlns=\"http://www.w3.org/2000/svg\" height=\"24px\" viewBox=\"0 -960 960 960\">\n",
              "    <path d=\"M120-120v-720h720v720H120Zm60-500h600v-160H180v160Zm220 220h160v-160H400v160Zm0 220h160v-160H400v160ZM180-400h160v-160H180v160Zm440 0h160v-160H620v160ZM180-180h160v-160H180v160Zm440 0h160v-160H620v160Z\"/>\n",
              "  </svg>\n",
              "    </button>\n",
              "\n",
              "  <style>\n",
              "    .colab-df-container {\n",
              "      display:flex;\n",
              "      gap: 12px;\n",
              "    }\n",
              "\n",
              "    .colab-df-convert {\n",
              "      background-color: #E8F0FE;\n",
              "      border: none;\n",
              "      border-radius: 50%;\n",
              "      cursor: pointer;\n",
              "      display: none;\n",
              "      fill: #1967D2;\n",
              "      height: 32px;\n",
              "      padding: 0 0 0 0;\n",
              "      width: 32px;\n",
              "    }\n",
              "\n",
              "    .colab-df-convert:hover {\n",
              "      background-color: #E2EBFA;\n",
              "      box-shadow: 0px 1px 2px rgba(60, 64, 67, 0.3), 0px 1px 3px 1px rgba(60, 64, 67, 0.15);\n",
              "      fill: #174EA6;\n",
              "    }\n",
              "\n",
              "    .colab-df-buttons div {\n",
              "      margin-bottom: 4px;\n",
              "    }\n",
              "\n",
              "    [theme=dark] .colab-df-convert {\n",
              "      background-color: #3B4455;\n",
              "      fill: #D2E3FC;\n",
              "    }\n",
              "\n",
              "    [theme=dark] .colab-df-convert:hover {\n",
              "      background-color: #434B5C;\n",
              "      box-shadow: 0px 1px 3px 1px rgba(0, 0, 0, 0.15);\n",
              "      filter: drop-shadow(0px 1px 2px rgba(0, 0, 0, 0.3));\n",
              "      fill: #FFFFFF;\n",
              "    }\n",
              "  </style>\n",
              "\n",
              "    <script>\n",
              "      const buttonEl =\n",
              "        document.querySelector('#df-b85b31a7-8cfa-4efc-82ea-dc8d7173cf9a button.colab-df-convert');\n",
              "      buttonEl.style.display =\n",
              "        google.colab.kernel.accessAllowed ? 'block' : 'none';\n",
              "\n",
              "      async function convertToInteractive(key) {\n",
              "        const element = document.querySelector('#df-b85b31a7-8cfa-4efc-82ea-dc8d7173cf9a');\n",
              "        const dataTable =\n",
              "          await google.colab.kernel.invokeFunction('convertToInteractive',\n",
              "                                                    [key], {});\n",
              "        if (!dataTable) return;\n",
              "\n",
              "        const docLinkHtml = 'Like what you see? Visit the ' +\n",
              "          '<a target=\"_blank\" href=https://colab.research.google.com/notebooks/data_table.ipynb>data table notebook</a>'\n",
              "          + ' to learn more about interactive tables.';\n",
              "        element.innerHTML = '';\n",
              "        dataTable['output_type'] = 'display_data';\n",
              "        await google.colab.output.renderOutput(dataTable, element);\n",
              "        const docLink = document.createElement('div');\n",
              "        docLink.innerHTML = docLinkHtml;\n",
              "        element.appendChild(docLink);\n",
              "      }\n",
              "    </script>\n",
              "  </div>\n",
              "\n",
              "\n",
              "<div id=\"df-8dbeff04-28b7-4c3e-b507-d07c5a61bd76\">\n",
              "  <button class=\"colab-df-quickchart\" onclick=\"quickchart('df-8dbeff04-28b7-4c3e-b507-d07c5a61bd76')\"\n",
              "            title=\"Suggest charts\"\n",
              "            style=\"display:none;\">\n",
              "\n",
              "<svg xmlns=\"http://www.w3.org/2000/svg\" height=\"24px\"viewBox=\"0 0 24 24\"\n",
              "     width=\"24px\">\n",
              "    <g>\n",
              "        <path d=\"M19 3H5c-1.1 0-2 .9-2 2v14c0 1.1.9 2 2 2h14c1.1 0 2-.9 2-2V5c0-1.1-.9-2-2-2zM9 17H7v-7h2v7zm4 0h-2V7h2v10zm4 0h-2v-4h2v4z\"/>\n",
              "    </g>\n",
              "</svg>\n",
              "  </button>\n",
              "\n",
              "<style>\n",
              "  .colab-df-quickchart {\n",
              "      --bg-color: #E8F0FE;\n",
              "      --fill-color: #1967D2;\n",
              "      --hover-bg-color: #E2EBFA;\n",
              "      --hover-fill-color: #174EA6;\n",
              "      --disabled-fill-color: #AAA;\n",
              "      --disabled-bg-color: #DDD;\n",
              "  }\n",
              "\n",
              "  [theme=dark] .colab-df-quickchart {\n",
              "      --bg-color: #3B4455;\n",
              "      --fill-color: #D2E3FC;\n",
              "      --hover-bg-color: #434B5C;\n",
              "      --hover-fill-color: #FFFFFF;\n",
              "      --disabled-bg-color: #3B4455;\n",
              "      --disabled-fill-color: #666;\n",
              "  }\n",
              "\n",
              "  .colab-df-quickchart {\n",
              "    background-color: var(--bg-color);\n",
              "    border: none;\n",
              "    border-radius: 50%;\n",
              "    cursor: pointer;\n",
              "    display: none;\n",
              "    fill: var(--fill-color);\n",
              "    height: 32px;\n",
              "    padding: 0;\n",
              "    width: 32px;\n",
              "  }\n",
              "\n",
              "  .colab-df-quickchart:hover {\n",
              "    background-color: var(--hover-bg-color);\n",
              "    box-shadow: 0 1px 2px rgba(60, 64, 67, 0.3), 0 1px 3px 1px rgba(60, 64, 67, 0.15);\n",
              "    fill: var(--button-hover-fill-color);\n",
              "  }\n",
              "\n",
              "  .colab-df-quickchart-complete:disabled,\n",
              "  .colab-df-quickchart-complete:disabled:hover {\n",
              "    background-color: var(--disabled-bg-color);\n",
              "    fill: var(--disabled-fill-color);\n",
              "    box-shadow: none;\n",
              "  }\n",
              "\n",
              "  .colab-df-spinner {\n",
              "    border: 2px solid var(--fill-color);\n",
              "    border-color: transparent;\n",
              "    border-bottom-color: var(--fill-color);\n",
              "    animation:\n",
              "      spin 1s steps(1) infinite;\n",
              "  }\n",
              "\n",
              "  @keyframes spin {\n",
              "    0% {\n",
              "      border-color: transparent;\n",
              "      border-bottom-color: var(--fill-color);\n",
              "      border-left-color: var(--fill-color);\n",
              "    }\n",
              "    20% {\n",
              "      border-color: transparent;\n",
              "      border-left-color: var(--fill-color);\n",
              "      border-top-color: var(--fill-color);\n",
              "    }\n",
              "    30% {\n",
              "      border-color: transparent;\n",
              "      border-left-color: var(--fill-color);\n",
              "      border-top-color: var(--fill-color);\n",
              "      border-right-color: var(--fill-color);\n",
              "    }\n",
              "    40% {\n",
              "      border-color: transparent;\n",
              "      border-right-color: var(--fill-color);\n",
              "      border-top-color: var(--fill-color);\n",
              "    }\n",
              "    60% {\n",
              "      border-color: transparent;\n",
              "      border-right-color: var(--fill-color);\n",
              "    }\n",
              "    80% {\n",
              "      border-color: transparent;\n",
              "      border-right-color: var(--fill-color);\n",
              "      border-bottom-color: var(--fill-color);\n",
              "    }\n",
              "    90% {\n",
              "      border-color: transparent;\n",
              "      border-bottom-color: var(--fill-color);\n",
              "    }\n",
              "  }\n",
              "</style>\n",
              "\n",
              "  <script>\n",
              "    async function quickchart(key) {\n",
              "      const quickchartButtonEl =\n",
              "        document.querySelector('#' + key + ' button');\n",
              "      quickchartButtonEl.disabled = true;  // To prevent multiple clicks.\n",
              "      quickchartButtonEl.classList.add('colab-df-spinner');\n",
              "      try {\n",
              "        const charts = await google.colab.kernel.invokeFunction(\n",
              "            'suggestCharts', [key], {});\n",
              "      } catch (error) {\n",
              "        console.error('Error during call to suggestCharts:', error);\n",
              "      }\n",
              "      quickchartButtonEl.classList.remove('colab-df-spinner');\n",
              "      quickchartButtonEl.classList.add('colab-df-quickchart-complete');\n",
              "    }\n",
              "    (() => {\n",
              "      let quickchartButtonEl =\n",
              "        document.querySelector('#df-8dbeff04-28b7-4c3e-b507-d07c5a61bd76 button');\n",
              "      quickchartButtonEl.style.display =\n",
              "        google.colab.kernel.accessAllowed ? 'block' : 'none';\n",
              "    })();\n",
              "  </script>\n",
              "</div>\n",
              "\n",
              "  <div id=\"id_68c34a3c-caa6-42a3-b986-63efb850f126\">\n",
              "    <style>\n",
              "      .colab-df-generate {\n",
              "        background-color: #E8F0FE;\n",
              "        border: none;\n",
              "        border-radius: 50%;\n",
              "        cursor: pointer;\n",
              "        display: none;\n",
              "        fill: #1967D2;\n",
              "        height: 32px;\n",
              "        padding: 0 0 0 0;\n",
              "        width: 32px;\n",
              "      }\n",
              "\n",
              "      .colab-df-generate:hover {\n",
              "        background-color: #E2EBFA;\n",
              "        box-shadow: 0px 1px 2px rgba(60, 64, 67, 0.3), 0px 1px 3px 1px rgba(60, 64, 67, 0.15);\n",
              "        fill: #174EA6;\n",
              "      }\n",
              "\n",
              "      [theme=dark] .colab-df-generate {\n",
              "        background-color: #3B4455;\n",
              "        fill: #D2E3FC;\n",
              "      }\n",
              "\n",
              "      [theme=dark] .colab-df-generate:hover {\n",
              "        background-color: #434B5C;\n",
              "        box-shadow: 0px 1px 3px 1px rgba(0, 0, 0, 0.15);\n",
              "        filter: drop-shadow(0px 1px 2px rgba(0, 0, 0, 0.3));\n",
              "        fill: #FFFFFF;\n",
              "      }\n",
              "    </style>\n",
              "    <button class=\"colab-df-generate\" onclick=\"generateWithVariable('am_rent')\"\n",
              "            title=\"Generate code using this dataframe.\"\n",
              "            style=\"display:none;\">\n",
              "\n",
              "  <svg xmlns=\"http://www.w3.org/2000/svg\" height=\"24px\"viewBox=\"0 0 24 24\"\n",
              "       width=\"24px\">\n",
              "    <path d=\"M7,19H8.4L18.45,9,17,7.55,7,17.6ZM5,21V16.75L18.45,3.32a2,2,0,0,1,2.83,0l1.4,1.43a1.91,1.91,0,0,1,.58,1.4,1.91,1.91,0,0,1-.58,1.4L9.25,21ZM18.45,9,17,7.55Zm-12,3A5.31,5.31,0,0,0,4.9,8.1,5.31,5.31,0,0,0,1,6.5,5.31,5.31,0,0,0,4.9,4.9,5.31,5.31,0,0,0,6.5,1,5.31,5.31,0,0,0,8.1,4.9,5.31,5.31,0,0,0,12,6.5,5.46,5.46,0,0,0,6.5,12Z\"/>\n",
              "  </svg>\n",
              "    </button>\n",
              "    <script>\n",
              "      (() => {\n",
              "      const buttonEl =\n",
              "        document.querySelector('#id_68c34a3c-caa6-42a3-b986-63efb850f126 button.colab-df-generate');\n",
              "      buttonEl.style.display =\n",
              "        google.colab.kernel.accessAllowed ? 'block' : 'none';\n",
              "\n",
              "      buttonEl.onclick = () => {\n",
              "        google.colab.notebook.generateWithVariable('am_rent');\n",
              "      }\n",
              "      })();\n",
              "    </script>\n",
              "  </div>\n",
              "\n",
              "    </div>\n",
              "  </div>\n"
            ],
            "application/vnd.google.colaboratory.intrinsic+json": {
              "type": "dataframe",
              "variable_name": "am_rent"
            }
          },
          "metadata": {}
        }
      ]
    },
    {
      "cell_type": "markdown",
      "source": [
        "Now we can move onto our model construction"
      ],
      "metadata": {
        "id": "_ixZatLFCAl5"
      }
    },
    {
      "cell_type": "markdown",
      "source": [
        "### Model Construction"
      ],
      "metadata": {
        "id": "mabhCfui-fsm"
      }
    },
    {
      "cell_type": "markdown",
      "source": [
        "#### Building the Model"
      ],
      "metadata": {
        "id": "n4iysKq3-hU4"
      }
    },
    {
      "cell_type": "markdown",
      "source": [
        "Lets build our model that shows the difference in price based on month posted"
      ],
      "metadata": {
        "id": "UMS4YFPb_EOO"
      }
    },
    {
      "cell_type": "code",
      "source": [
        "import pandas as pd\n",
        "import matplotlib.pyplot as plt\n",
        "import seaborn as sns\n",
        "\n",
        "# Identify the amenity columns\n",
        "amenity_columns = am_rent.columns[1:]\n",
        "\n",
        "# Create an empty DataFrame to store the average price for each amenity\n",
        "average_price_by_amenity = pd.DataFrame(columns=['amenity', 'price'])\n",
        "\n",
        "# Calculate the average price for listings with each amenity\n",
        "for amenity in amenity_columns:\n",
        "    avg_price = am_rent.loc[am_rent[amenity] == 1, 'price'].mean()\n",
        "    average_price_by_amenity = pd.concat([average_price_by_amenity, pd.DataFrame({'amenity': [amenity], 'price': [avg_price]})], ignore_index=True)\n",
        "\n",
        "# Sort the DataFrame by average price for better visualization\n",
        "average_price_by_amenity = average_price_by_amenity.sort_values(by='price', ascending=False)"
      ],
      "metadata": {
        "id": "mlFynhq3DaUn"
      },
      "execution_count": 117,
      "outputs": []
    },
    {
      "cell_type": "markdown",
      "source": [
        "#### Model Description"
      ],
      "metadata": {
        "id": "Ki_N819b_dOm"
      }
    },
    {
      "cell_type": "code",
      "source": [
        "# Set up the matplotlib figure\n",
        "plt.figure(figsize=(12, 8))\n",
        "\n",
        "# Create a bar plot using seaborn\n",
        "sns.barplot(x='price', y='amenity', data=average_price_by_amenity, hue='amenity', palette='viridis', legend=False)\n",
        "\n",
        "# Set labels and title\n",
        "plt.xlabel('Average Price')\n",
        "plt.ylabel('Amenity')\n",
        "plt.title('Average Price by Amenity Presence')\n",
        "\n",
        "# Show the plot\n",
        "plt.show()\n"
      ],
      "metadata": {
        "colab": {
          "base_uri": "https://localhost:8080/",
          "height": 718
        },
        "id": "K5po01qmELdD",
        "outputId": "d9987994-c758-4dc6-a216-534df82f9897"
      },
      "execution_count": 118,
      "outputs": [
        {
          "output_type": "display_data",
          "data": {
            "text/plain": [
              "<Figure size 1200x800 with 1 Axes>"
            ],
            "image/png": "[encoded data removed]"
          },
          "metadata": {}
        }
      ]
    },
    {
      "cell_type": "markdown",
      "source": [
        "In the presented graph, a compelling relationship between listed amenities and the average price of rental listings emerges, providing valuable insights into the determinants of rental prices. Notably, certain amenities exhibit a clear association with higher average prices, reflecting the premium nature of these features often found in upscale apartments.\n",
        "\n",
        "At the top of the price hierarchy, the inclusion of a doorman stands out as the most expensive amenity. This luxurious service is typically exclusive to higher-end residences, contributing to an elevated average price. Similarly, the presence of a TV, wood floors, a scenic view, and an elevator all align with higher prices, indicating a correlation with a more upscale and sophisticated living experience.\n",
        "\n",
        "Conversely, amenities such as a playground, garbage disposal, tennis facilities, and internet access appear at the lower end of the price spectrum. While some of these features may not be considered luxurious, they nonetheless play a role in shaping rental prices. This observation suggests that certain amenities, though not necessarily opulent, can significantly influence the decision-making process for prospective renters.\n",
        "\n",
        "Overall, this model underscores the intricate relationship between amenities and rental prices, shedding light on both expected features and sought-after luxuries. It provides valuable guidance for renters seeking specific attributes in their housing choice and landlords aiming to optimize the appeal and pricing of their listings based on the amenities offered."
      ],
      "metadata": {
        "id": "vF9DXpE5EMzf"
      }
    },
    {
      "cell_type": "markdown",
      "source": [
        "# Conclusion"
      ],
      "metadata": {
        "id": "ggNHIu1x6eYy"
      }
    },
    {
      "cell_type": "markdown",
      "source": [
        "Through the extensive analysis and modeling conducted on the rental dataset, several key insights have been gleaned regarding the factors influencing rental prices. The exploration of geographic and non-geographic characteristics, alongside the examination of amenities, has provided a comprehensive understanding of the rental market.\n",
        "\n",
        "Model Performance: The visualization comparing actual prices with predicted prices allows for a comprehensive evaluation of the model's accuracy. Deviations from the ideal prediction line provide valuable insights into areas where the model excels and areas for improvement.\n",
        "\n",
        "Geographic Patterns: The geographical distribution of rental prices reveals distinct clusters of high and low-cost areas. Hotspots in California and major urban centers suggest a correlation between rent and economic activity, emphasizing the impact of local economies on housing costs.\n",
        "\n",
        "Amenities and Price Relationship: The investigation into amenities highlights a nuanced relationship between specific features and rental prices. Luxurious amenities such as a doorman, wood floors, and scenic views are associated with higher prices, while others like playgrounds and internet access are linked to more affordable rentals.\n",
        "\n"
      ],
      "metadata": {
        "id": "dVy-9GPgYzda"
      }
    }
  ]
}